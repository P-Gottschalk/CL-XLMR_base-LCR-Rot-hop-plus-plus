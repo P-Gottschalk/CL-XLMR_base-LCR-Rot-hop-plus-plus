{
 "cells": [
  {
   "cell_type": "markdown",
   "metadata": {
    "id": "hDhSemIZt7by"
   },
   "source": [
    "**Note:** since this notebook is used for translation, there is no prior assumption that the data has been cleaned using main_clean.py, except for the XLMR_base-MLCR-Rot-hop++ dataset."
   ]
  },
  {
   "cell_type": "markdown",
   "metadata": {
    "id": "A6IwkaSjh1Ul"
   },
   "source": [
    "###**Notebook Setup**"
   ]
  },
  {
   "cell_type": "markdown",
   "metadata": {
    "id": "IEAxUJ-S2dJB"
   },
   "source": [
    "**Mount Prep**"
   ]
  },
  {
   "cell_type": "code",
   "execution_count": null,
   "metadata": {
    "id": "xTZKyEpDiF3x"
   },
   "outputs": [],
   "source": [
    "from google.colab import drive\n",
    "drive.mount(\"/content/drive/\")"
   ]
  },
  {
   "cell_type": "markdown",
   "metadata": {
    "id": "AgCAv0H3iF3x"
   },
   "source": [
    "**Package Installation:**"
   ]
  },
  {
   "cell_type": "code",
   "execution_count": null,
   "metadata": {
    "id": "ZyN0UQCwiF3y"
   },
   "outputs": [],
   "source": [
    "! pip install matplotlib\n",
    "! pip install torch\n",
    "! pip install transformers\n",
    "! pip install datasets\n",
    "! pip install rdflib\n",
    "! pip install tqdm\n",
    "! pip install requests\n",
    "! pip install hyperopt\n",
    "! pip install scikit-learn"
   ]
  },
  {
   "cell_type": "markdown",
   "metadata": {
    "id": "PegknXZ-iF3y"
   },
   "source": [
    "**GitHub Cloning:** 90-day access token is used"
   ]
  },
  {
   "cell_type": "code",
   "execution_count": null,
   "metadata": {
    "id": "6vxSX3dfiF3y"
   },
   "outputs": [],
   "source": [
    "! rm -r CL-XLMR_base-LCR-Rot-hop-plus-plus #Remove GitHub whilst in session"
   ]
  },
  {
   "cell_type": "code",
   "execution_count": null,
   "metadata": {
    "id": "-tXscrtoiF3y"
   },
   "outputs": [],
   "source": [
    "!git clone https://github.com/SmartStevie02/CL-XLMR_base-LCR-Rot-hop-plus-plus.git"
   ]
  },
  {
   "cell_type": "markdown",
   "metadata": {
    "id": "Q7vMUGZivbjE"
   },
   "source": [
    "###**XLMR_base-MLCR-Rot-hop++:**\n",
    "\n",
    "Combines the data as needed. From here, the same steps as in mLCR-Rot-hop++ can be taken."
   ]
  },
  {
   "cell_type": "code",
   "execution_count": null,
   "metadata": {
    "id": "PAdWVs_LDp-b"
   },
   "outputs": [],
   "source": [
    "!python /content/CL-XLMR_base-LCR-Rot-hop-plus-plus/main_translate.py --year 2016 --phase \"Train\" --model-type \"MLCR-Rot-hop++\""
   ]
  },
  {
   "cell_type": "markdown",
   "metadata": {
    "id": "u9Lq1RWXf82W"
   },
   "source": [
    "###**XLMR_base-LCR-Rot-hops-XXen:**\n",
    "\n",
    "Creates the data needed. From here, similar steps to the mLCR-Rot-hop++ model can be taken."
   ]
  },
  {
   "cell_type": "code",
   "execution_count": null,
   "metadata": {
    "id": "ZGzslc5xgdDo"
   },
   "outputs": [],
   "source": [
    "!python /content/CL-XLMR_base-LCR-Rot-hop-plus-plus/main_translate.py --year 2016 --phase \"Train\" --model-type \"mLCR-Rot-hop-XXen++\" --source \"English\" --target \"Dutch\""
   ]
  },
  {
   "cell_type": "code",
   "execution_count": null,
   "metadata": {
    "id": "LsFiWjyyqLm8"
   },
   "outputs": [],
   "source": [
    "!python /content/CL-XLMR_base-LCR-Rot-hop-plus-plus/main_translate.py --year 2016 --phase \"Train\" --model-type \"mLCR-Rot-hop-XXen++\" --source \"English\" --target \"French\""
   ]
  },
  {
   "cell_type": "code",
   "execution_count": null,
   "metadata": {
    "id": "egA4QLAYqL0t"
   },
   "outputs": [],
   "source": [
    "!python /content/CL-XLMR_base-LCR-Rot-hop-plus-plus/main_translate.py --year 2016 --phase \"Train\" --model-type \"mLCR-Rot-hop-XXen++\" --source \"English\" --target \"Spanish\""
   ]
  },
  {
   "cell_type": "markdown",
   "metadata": {
    "id": "5g_-Yohtq8z2"
   },
   "source": [
    "###**XLMR_base-LCR-Rot-hop-ACSxx:**\n",
    "\n",
    "Creates the four needed datasets and combines them. Then, as above, the steps of the mLCR-Rot-hop++ model can be taken."
   ]
  },
  {
   "cell_type": "code",
   "execution_count": null,
   "metadata": {
    "id": "60p0aKFvreqO"
   },
   "outputs": [],
   "source": [
    "!python /content/CL-XLMR_base-LCR-Rot-hop-plus-plus/main_translate.py --year 2016 --phase \"Train\" --model-type \"mLCR-Rot-hop-ACSxx\" --source \"English\" --target \"Dutch\""
   ]
  },
  {
   "cell_type": "code",
   "execution_count": null,
   "metadata": {
    "id": "W5UJQbNnqUe6"
   },
   "outputs": [],
   "source": [
    "!python /content/CL-XLMR_base-LCR-Rot-hop-plus-plus/main_translate.py --year 2016 --phase \"Train\" --model-type \"mLCR-Rot-hop-ACSxx\" --source \"English\" --target \"French\""
   ]
  },
  {
   "cell_type": "code",
   "execution_count": null,
   "metadata": {
    "id": "blN_MMERqW1X"
   },
   "outputs": [],
   "source": [
    "!python /content/CL-XLMR_base-LCR-Rot-hop-plus-plus/main_translate.py --year 2016 --phase \"Train\" --model-type \"mLCR-Rot-hop-ACSxx\" --source \"English\" --target \"Spanish\""
   ]
  }
 ],
 "metadata": {
  "colab": {
   "private_outputs": true,
   "provenance": []
  },
  "kernelspec": {
   "display_name": "Python 3",
   "name": "python3"
  },
  "language_info": {
   "name": "python"
  }
 },
 "nbformat": 4,
 "nbformat_minor": 0
}
