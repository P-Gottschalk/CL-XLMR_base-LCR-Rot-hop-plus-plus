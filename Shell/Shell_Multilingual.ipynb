{
 "cells": [
  {
   "cell_type": "markdown",
   "metadata": {
    "id": "A6IwkaSjh1Ul"
   },
   "source": [
    "###**Notebook Setup**"
   ]
  },
  {
   "cell_type": "markdown",
   "metadata": {
    "id": "IEAxUJ-S2dJB"
   },
   "source": [
    "**Mount Prep**"
   ]
  },
  {
   "cell_type": "code",
   "execution_count": null,
   "metadata": {
    "id": "tZlNusdLTV0v"
   },
   "outputs": [],
   "source": [
    "from google.colab import drive\n",
    "drive.mount(\"/content/drive/\")"
   ]
  },
  {
   "cell_type": "markdown",
   "metadata": {
    "id": "vkx1Y9Qj5G_1"
   },
   "source": [
    "**Package Installation:**"
   ]
  },
  {
   "cell_type": "code",
   "execution_count": null,
   "metadata": {
    "id": "1wZfrg344lsI"
   },
   "outputs": [],
   "source": [
    "! pip install matplotlib\n",
    "! pip install torch\n",
    "! pip install transformers\n",
    "! pip install datasets\n",
    "! pip install rdflib\n",
    "! pip install tqdm\n",
    "! pip install requests\n",
    "! pip install hyperopt\n",
    "! pip install scikit-learn"
   ]
  },
  {
   "cell_type": "markdown",
   "metadata": {
    "id": "nu6jBbPL2q4F"
   },
   "source": [
    "**GitHub Cloning:** 90-day access token is used"
   ]
  },
  {
   "cell_type": "code",
   "execution_count": null,
   "metadata": {
    "id": "C-qbm4XreAUf"
   },
   "outputs": [],
   "source": [
    "! rm -r CL-XLMR_base-LCR-Rot-hop-plus-plus #Remove GitHub whilst in session"
   ]
  },
  {
   "cell_type": "code",
   "execution_count": null,
   "metadata": {
    "id": "g9Ovr3oPvWD7"
   },
   "outputs": [],
   "source": [
    "!git clone https://github.com/SmartStevie02/CL-XLMR_base-LCR-Rot-hop-plus-plus.git"
   ]
  },
  {
   "cell_type": "markdown",
   "metadata": {
    "id": "Z6lXkq_w28id"
   },
   "source": [
    "### **XLMR-LCR-Rot-hop++:**\n",
    "LCR-Rot-hop++ model, using various embedders, trained on the English dataset."
   ]
  },
  {
   "cell_type": "markdown",
   "metadata": {
    "id": "wUulWFqcAuaV"
   },
   "source": [
    "**Hyperparameter Optimisation:** carry out hyperparameter optimisation of the various language models using English language training data."
   ]
  },
  {
   "cell_type": "code",
   "execution_count": null,
   "metadata": {
    "id": "J9LtrDDpsK9Z"
   },
   "outputs": [],
   "source": [
    "! python /content/CL-XLMR_base-LCR-Rot-hop-plus-plus/main_hyperparam.py --year 2016 --phase \"Train\" --language \"English\" --model-type \"mBERT\""
   ]
  },
  {
   "cell_type": "code",
   "execution_count": null,
   "metadata": {
    "id": "hyoQsG3hsK9Z"
   },
   "outputs": [],
   "source": [
    "! python /content/CL-XLMR_base-LCR-Rot-hop-plus-plus/main_hyperparam.py --year 2016 --phase \"Train\" --language \"English\" --model-type \"xlm-roberta-base\""
   ]
  },
  {
   "cell_type": "code",
   "execution_count": null,
   "metadata": {
    "id": "q8VZWQ_usK9Z"
   },
   "outputs": [],
   "source": [
    "! python /content/CL-XLMR_base-LCR-Rot-hop-plus-plus/main_hyperparam.py --year 2016 --phase \"Train\" --language \"English\" --model-type \"xlm-roberta-large\""
   ]
  },
  {
   "cell_type": "markdown",
   "metadata": {
    "id": "oSK97jQjBw1q"
   },
   "source": [
    "**Model Training:** trains the actual models using English language training data."
   ]
  },
  {
   "cell_type": "code",
   "execution_count": null,
   "metadata": {
    "id": "MzdHkxt0B88x"
   },
   "outputs": [],
   "source": [
    "! python /content/CL-XLMR_base-LCR-Rot-hop-plus-plus/main_train.py --model-type \"mBERT\" --year 2016 --phase \"Train\" --language \"English\" --hops 2 --learning 0.06 --dropout 0.6000000000000001 --momentum 0.85 --weight-decay 1e-05"
   ]
  },
  {
   "cell_type": "code",
   "execution_count": null,
   "metadata": {
    "id": "nqA9QkRtB9tj"
   },
   "outputs": [],
   "source": [
    "! python /content/CL-XLMR_base-LCR-Rot-hop-plus-plus/main_train.py --model-type \"xlm-roberta-base\" --year 2016 --phase \"Train\" --language \"English\" --hops 2 --learning 0.05 --dropout 0.5 --momentum 0.9 --weight-decay 0.01"
   ]
  },
  {
   "cell_type": "code",
   "execution_count": null,
   "metadata": {
    "id": "joT22zzGB9kI"
   },
   "outputs": [],
   "source": [
    "! python /content/CL-XLMR_base-LCR-Rot-hop-plus-plus/main_train.py --model-type \"xlm-roberta-large\" --year 2016 --phase \"Train\" --language \"English\" --hops 2 --learning 0.05 --dropout 0.5 --momentum 0.9 --weight-decay 0.01"
   ]
  },
  {
   "cell_type": "markdown",
   "metadata": {
    "id": "REmxIHOCGDKK"
   },
   "source": [
    "**Model Validation:** validates the models using English language test data."
   ]
  },
  {
   "cell_type": "code",
   "execution_count": null,
   "metadata": {
    "id": "qOxRjHk7GVtp"
   },
   "outputs": [],
   "source": [
    "! python /content/CL-XLMR_base-LCR-Rot-hop-plus-plus/main_validate.py --language \"English\" --model-type \"mBERT\" --model \"/content/drive/MyDrive/data/models/2016_English_LCR_hops2_dropout0-6000000000000001_acc0-8218085106382979_mBERT.pt\""
   ]
  },
  {
   "cell_type": "code",
   "execution_count": null,
   "metadata": {
    "id": "lT3IrpuQGWRV"
   },
   "outputs": [],
   "source": [
    "! python /content/CL-XLMR_base-LCR-Rot-hop-plus-plus/main_validate.py --language \"English\" --model-type \"xlm-roberta-base\" --model \"/content/drive/MyDrive/data/models/2016_English_LCR_hops2_dropout0-5_acc0-8271276595744681_xlm-roberta-base.pt\""
   ]
  },
  {
   "cell_type": "code",
   "execution_count": null,
   "metadata": {
    "id": "o1k7AxCAGW7L"
   },
   "outputs": [],
   "source": [
    "! python /content/CL-XLMR_base-LCR-Rot-hop-plus-plus/main_validate.py --language \"English\" --model-type \"xlm-roberta-large\" --model \"/content/drive/MyDrive/data/models/2016_English_LCR_hops2_dropout0-5_acc0-776595744680851_xlm-roberta-large.pt\""
   ]
  },
  {
   "cell_type": "markdown",
   "metadata": {
    "id": "LpmvmNGFEqzh"
   },
   "source": [
    "### **XLMR-MLCR-Rot-hop++:**\n",
    "LCR-Rot-hop++ model, using various embedders, trained on the Multilingual dataset."
   ]
  },
  {
   "cell_type": "markdown",
   "metadata": {
    "id": "onuHr6rIsLz0"
   },
   "source": [
    "**Hyperparameter Optimisation:** carry out hyperparameter optimisation of the various language models using Multilingual language training data."
   ]
  },
  {
   "cell_type": "code",
   "execution_count": null,
   "metadata": {
    "id": "msRA9JMFsLz1"
   },
   "outputs": [],
   "source": [
    "! python /content/CL-XLMR_base-LCR-Rot-hop-plus-plus/main_hyperparam.py --year 2016 --phase \"Train\" --language \"Multilingual\" --model-type \"mBERT\""
   ]
  },
  {
   "cell_type": "code",
   "execution_count": null,
   "metadata": {
    "id": "dg5q8xnYsLz1"
   },
   "outputs": [],
   "source": [
    "! python /content/CL-XLMR_base-LCR-Rot-hop-plus-plus/main_hyperparam.py --year 2016 --phase \"Train\" --language \"Multilingual\" --model-type \"xlm-roberta-base\""
   ]
  },
  {
   "cell_type": "code",
   "execution_count": null,
   "metadata": {
    "id": "_uqGWNOosLz1"
   },
   "outputs": [],
   "source": [
    "! python /content/CL-XLMR_base-LCR-Rot-hop-plus-plus/main_hyperparam.py --year 2016 --phase \"Train\" --language \"Multilingual\" --model-type \"xlm-roberta-large\""
   ]
  },
  {
   "cell_type": "markdown",
   "metadata": {
    "id": "heCgLgY3sLz1"
   },
   "source": [
    "**Model Training:** trains the actual models using Multilingual language training data."
   ]
  },
  {
   "cell_type": "code",
   "execution_count": null,
   "metadata": {
    "id": "1tFFnYiYsLz1"
   },
   "outputs": [],
   "source": [
    "! python /content/CL-XLMR_base-LCR-Rot-hop-plus-plus/main_train.py --model-type \"mBERT\" --year 2016 --phase \"Train\" --language \"Multilingual\" --hops 2 --learning 0.06 --dropout  0.6000000000000001 --momentum  0.85 --weight-decay 1e-05"
   ]
  },
  {
   "cell_type": "code",
   "execution_count": null,
   "metadata": {
    "id": "qKJjtiWAsLz1"
   },
   "outputs": [],
   "source": [
    "! python /content/CL-XLMR_base-LCR-Rot-hop-plus-plus/main_train.py --model-type \"xlm-roberta-base\" --year 2016 --phase \"Train\" --language \"Multilingual\" --hops 2 --learning 0.08 --dropout 0.4 --momentum 0.95 --weight-decay 0.0001"
   ]
  },
  {
   "cell_type": "code",
   "execution_count": null,
   "metadata": {
    "id": "3OVKDmfFsLz1"
   },
   "outputs": [],
   "source": [
    "! python /content/CL-XLMR_base-LCR-Rot-hop-plus-plus/main_train.py --model-type \"xlm-roberta-large\" --year 2016 --phase \"Train\" --language \"Multilingual\" --hops 2 --learning 0.06 --dropout  0.6000000000000001 --momentum  0.85 --weight-decay 1e-05"
   ]
  },
  {
   "cell_type": "markdown",
   "metadata": {
    "id": "aYIuRvVKFlG6"
   },
   "source": [
    "**Model Validation:** validates the models using English language test data."
   ]
  },
  {
   "cell_type": "code",
   "execution_count": null,
   "metadata": {
    "id": "Yqq4_bdiFlG6"
   },
   "outputs": [],
   "source": [
    "! python /content/CL-XLMR_base-LCR-Rot-hop-plus-plus/main_validate.py --language \"English\" --model-type \"mBERT\" --model \"/content/drive/MyDrive/data/models/2016_Multilingual_LCR_hops2_dropout0-6000000000000001_acc0-7918486171761281_mBERT.pt\""
   ]
  },
  {
   "cell_type": "code",
   "execution_count": null,
   "metadata": {
    "id": "Moc5pmr4FlG6"
   },
   "outputs": [],
   "source": [
    "! python /content/CL-XLMR_base-LCR-Rot-hop-plus-plus/main_validate.py --language \"English\" --model-type \"xlm-roberta-base\" --model \"/content/drive/MyDrive/data/models/2016_Multilingual_LCR_hops2_dropout0-4_acc0-8486171761280932_xlm-roberta-base.pt\""
   ]
  },
  {
   "cell_type": "code",
   "execution_count": null,
   "metadata": {
    "id": "aq5ZT-jmFlG6"
   },
   "outputs": [],
   "source": [
    "! python /content/CL-XLMR_base-LCR-Rot-hop-plus-plus/main_validate.py --language \"English\" --model-type \"xlm-roberta-large\" --model \"/content/drive/MyDrive/data/models/2016_Multilingual_LCR_hops2_dropout0-6000000000000001_acc0-8398835516739447_xlm-roberta-large.pt\""
   ]
  },
  {
   "cell_type": "markdown",
   "metadata": {
    "id": "A6foZ_VmgPEa"
   },
   "source": [
    "### **CLS-XLMR-LCR-Rot-hop++:**\n",
    "LCR-Rot-hop++ model, using various embedders, trained on the English dataset, using sentiment-level contrastive learning."
   ]
  },
  {
   "cell_type": "markdown",
   "metadata": {
    "id": "Y25_hbigCinw"
   },
   "source": [
    "**Hyperparameter Optimisation:** carry out hyperparameter optimisation of the various language models using English language training data."
   ]
  },
  {
   "cell_type": "code",
   "execution_count": null,
   "metadata": {
    "collapsed": true,
    "id": "sIcyH5nUCin2"
   },
   "outputs": [],
   "source": [
    "! python /content/CL-XLMR_base-LCR-Rot-hop-plus-plus/main_hyperparam.py --year 2016 --phase \"Train\" --language \"English\" --model-type \"mBERT\" --contrastive-learning \"Sen\""
   ]
  },
  {
   "cell_type": "code",
   "execution_count": null,
   "metadata": {
    "collapsed": true,
    "id": "_eIAOtTtCin2"
   },
   "outputs": [],
   "source": [
    "! python /content/CL-XLMR_base-LCR-Rot-hop-plus-plus/main_hyperparam.py --year 2016 --phase \"Train\" --language \"English\" --model-type \"xlm-roberta-base\" --contrastive-learning \"Sen\""
   ]
  },
  {
   "cell_type": "markdown",
   "metadata": {
    "id": "TZd8S-4oCin2"
   },
   "source": [
    "**Model Training:** trains the actual models using English language training data."
   ]
  },
  {
   "cell_type": "code",
   "execution_count": null,
   "metadata": {
    "id": "fe4Lht7MCin2"
   },
   "outputs": [],
   "source": [
    "! python /content/CL-XLMR_base-LCR-Rot-hop-plus-plus/main_train.py --model-type \"mBERT\" --year 2016 --phase \"Train\" --language \"English\" --hops 2 --learning 0.06 --dropout 0.6000000000000001 --momentum 0.85 --weight-decay 1e-05 --contrastive-learning \"Sen\" --beta 0.5"
   ]
  },
  {
   "cell_type": "code",
   "execution_count": null,
   "metadata": {
    "id": "lTCva0gICin2"
   },
   "outputs": [],
   "source": [
    "! python /content/CL-XLMR_base-LCR-Rot-hop-plus-plus/main_train.py --model-type \"xlm-roberta-base\" --year 2016 --phase \"Train\" --language \"English\" --hops 2 --learning 0.06 --dropout 0.6000000000000001 --momentum 0.85 --weight-decay 1e-05 --contrastive-learning \"Sen\" --beta 0.4"
   ]
  },
  {
   "cell_type": "markdown",
   "metadata": {
    "id": "SotXSIElgPEb"
   },
   "source": [
    "**Model Validation:** validates the models using English language test data."
   ]
  },
  {
   "cell_type": "code",
   "execution_count": null,
   "metadata": {
    "collapsed": true,
    "id": "Q3dYTsZYgPEb"
   },
   "outputs": [],
   "source": [
    "! python /content/CL-XLMR_base-LCR-Rot-hop-plus-plus/main_validate.py --language \"English\" --model-type \"mBERT\" --model \"/content/drive/MyDrive/data/models/2016_English_LCR_hops2_dropout0-6000000000000001_acc0-8377659574468085_mBERT_CL_Sen.pt\""
   ]
  },
  {
   "cell_type": "code",
   "execution_count": null,
   "metadata": {
    "id": "Of72iesUgPEb"
   },
   "outputs": [],
   "source": [
    "! python /content/CL-XLMR_base-LCR-Rot-hop-plus-plus/main_validate.py --language \"English\" --model-type \"xlm-roberta-base\" --model \"/content/drive/MyDrive/data/models/2016_English_LCR_hops2_dropout0-6000000000000001_acc0-8537234042553191_xlm-roberta-base_CL_Sen.pt\""
   ]
  },
  {
   "cell_type": "markdown",
   "metadata": {
    "id": "03BHBw6qnTBJ"
   },
   "source": [
    "### **CLR-XLMR-LCR-Rot-hop++:**\n",
    "LCR-Rot-hop++ model, using various embedders, trained on the English dataset, using representation-level contrastive learning."
   ]
  },
  {
   "cell_type": "markdown",
   "metadata": {
    "id": "HEJ2frGjCoZI"
   },
   "source": [
    "**Hyperparameter Optimisation:** carry out hyperparameter optimisation of the various language models using English language training data."
   ]
  },
  {
   "cell_type": "code",
   "execution_count": null,
   "metadata": {
    "collapsed": true,
    "id": "QeGQ9eWhCoZP"
   },
   "outputs": [],
   "source": [
    "! python /content/CL-XLMR_base-LCR-Rot-hop-plus-plus/main_hyperparam.py --year 2016 --phase \"Train\" --language \"English\" --model-type \"mBERT\" --contrastive-learning \"Rep\""
   ]
  },
  {
   "cell_type": "code",
   "execution_count": null,
   "metadata": {
    "collapsed": true,
    "id": "c_b1DXZHCoZP"
   },
   "outputs": [],
   "source": [
    "! python /content/CL-XLMR_base-LCR-Rot-hop-plus-plus/main_hyperparam.py --year 2016 --phase \"Train\" --language \"English\" --model-type \"xlm-roberta-base\" --contrastive-learning \"Rep\""
   ]
  },
  {
   "cell_type": "markdown",
   "metadata": {
    "id": "fZUz8mGjCoZP"
   },
   "source": [
    "**Model Training:** trains the actual models using English language training data."
   ]
  },
  {
   "cell_type": "code",
   "execution_count": null,
   "metadata": {
    "id": "WrVpYpnhCoZP"
   },
   "outputs": [],
   "source": [
    "! python /content/CL-XLMR_base-LCR-Rot-hop-plus-plus/main_train.py --model-type \"mBERT\" --year 2016 --phase \"Train\" --language \"English\" --hops 2 --learning 0.08 --dropout 0.4 --momentum 0.95 --weight-decay 0.0001 --contrastive-learning \"Rep\" --beta 0.5"
   ]
  },
  {
   "cell_type": "code",
   "execution_count": null,
   "metadata": {
    "id": "B1V1eMRZCoZP"
   },
   "outputs": [],
   "source": [
    "! python /content/CL-XLMR_base-LCR-Rot-hop-plus-plus/main_train.py --model-type \"xlm-roberta-base\" --year 2016 --phase \"Train\" --language \"English\" --hops 2 --learning 0.08 --dropout 0.4 --momentum 0.95 --weight-decay 0.0001 --contrastive-learning \"Rep\" --beta 0.5"
   ]
  },
  {
   "cell_type": "markdown",
   "metadata": {
    "id": "AAmvt3aNnTBQ"
   },
   "source": [
    "**Model Validation:** validates the models using English language test data."
   ]
  },
  {
   "cell_type": "code",
   "execution_count": null,
   "metadata": {
    "collapsed": true,
    "id": "kDJz-H1znTBR"
   },
   "outputs": [],
   "source": [
    "! python /content/CL-XLMR_base-LCR-Rot-hop-plus-plus/main_validate.py --language \"English\" --model-type \"mBERT\" --model \"/content/drive/MyDrive/data/models/2016_English_LCR_hops2_dropout0-4_acc0-8351063829787234_mBERT_CL_Rep.pt\""
   ]
  },
  {
   "cell_type": "code",
   "execution_count": null,
   "metadata": {
    "id": "zC6KMm6EnTBR"
   },
   "outputs": [],
   "source": [
    "! python /content/CL-XLMR_base-LCR-Rot-hop-plus-plus/main_validate.py --language \"English\" --model-type \"xlm-roberta-base\" --model \"/content/drive/MyDrive/data/models/2016_English_LCR_hops2_dropout0-4_acc0-848404255319149_xlm-roberta-base_CL_Rep.pt\""
   ]
  },
  {
   "cell_type": "markdown",
   "metadata": {
    "id": "7aoIVjsMkQN1"
   },
   "source": [
    "### **CLS-XLMR-MLCR-Rot-hop++:**\n",
    "LCR-Rot-hop++ model, using various embedders, trained on the Multilingual dataset, using sentiment-level contrastive learning."
   ]
  },
  {
   "cell_type": "markdown",
   "metadata": {
    "id": "A3zbkHTspqrd"
   },
   "source": [
    "**Hyperparameter Optimisation:** carry out hyperparameter optimisation of the various language models using Multilingual language training data."
   ]
  },
  {
   "cell_type": "code",
   "execution_count": null,
   "metadata": {
    "collapsed": true,
    "id": "VGHjZRRxrnEv"
   },
   "outputs": [],
   "source": [
    "! python /content/CL-XLMR_base-LCR-Rot-hop-plus-plus/main_hyperparam.py --year 2016 --phase \"Train\" --language \"Multilingual\" --model-type \"mBERT\" --contrastive-learning \"Sen\""
   ]
  },
  {
   "cell_type": "code",
   "execution_count": null,
   "metadata": {
    "collapsed": true,
    "id": "QFBueKDArqzT"
   },
   "outputs": [],
   "source": [
    "! python /content/CL-XLMR_base-LCR-Rot-hop-plus-plus/main_hyperparam.py --year 2016 --phase \"Train\" --language \"Multilingual\" --model-type \"xlm-roberta-base\" --contrastive-learning \"Sen\""
   ]
  },
  {
   "cell_type": "markdown",
   "metadata": {
    "id": "-tTaAMzcpwyG"
   },
   "source": [
    "**Model Training:** trains the actual models using Multilingual language training data."
   ]
  },
  {
   "cell_type": "code",
   "execution_count": null,
   "metadata": {
    "id": "5GicVihbBHGG"
   },
   "outputs": [],
   "source": [
    "! python /content/CL-XLMR_base-LCR-Rot-hop-plus-plus/main_train.py --model-type \"mBERT\" --year 2016 --phase \"Train\" --language \"Multilingual\" --hops 2 --learning 0.06 --dropout 0.6000000000000001 --momentum 0.85 --weight-decay 1e-05 --contrastive-learning \"Sen\" --beta 0.4"
   ]
  },
  {
   "cell_type": "code",
   "execution_count": null,
   "metadata": {
    "id": "fkreOJZSD8nH"
   },
   "outputs": [],
   "source": [
    "! python /content/CL-XLMR_base-LCR-Rot-hop-plus-plus/main_train.py --model-type \"xlm-roberta-base\" --year 2016 --phase \"Train\" --language \"Multilingual\" --hops 2 --learning 0.06 --dropout 0.6000000000000001 --momentum 0.85 --weight-decay 1e-05 --contrastive-learning \"Sen\" --beta 0.4"
   ]
  },
  {
   "cell_type": "markdown",
   "metadata": {
    "id": "zG7032ngkW4N"
   },
   "source": [
    "**Model Validation:** validates the models using English language test data."
   ]
  },
  {
   "cell_type": "code",
   "execution_count": null,
   "metadata": {
    "id": "xQy_iq-5kW4O"
   },
   "outputs": [],
   "source": [
    "! python /content/CL-XLMR_base-LCR-Rot-hop-plus-plus/main_validate.py --language \"English\" --model-type \"mBERT\" --model \"/content/drive/MyDrive/data/models/2016_Multilingual_LCR_hops2_dropout0-6000000000000001_acc0-7983988355167394_mBERT_CL_Sen.pt\""
   ]
  },
  {
   "cell_type": "code",
   "execution_count": null,
   "metadata": {
    "id": "NooFehXQkW4O"
   },
   "outputs": [],
   "source": [
    "! python /content/CL-XLMR_base-LCR-Rot-hop-plus-plus/main_validate.py --language \"Spanish\" --model-type \"xlm-roberta-base\" --model \"/content/drive/MyDrive/data/models/2016_Multilingual_LCR_hops2_dropout0-6000000000000001_acc0-8522561863173217_xlm-roberta-base_CL_Sen.pt\""
   ]
  },
  {
   "cell_type": "markdown",
   "metadata": {
    "id": "2MGpsbb4j2UO"
   },
   "source": [
    "### **CLR-XLMR-MLCR-Rot-hop++:**\n",
    "LCR-Rot-hop++ model, using various embedders, trained on the Multilingual dataset, using representation-level contrastive learning."
   ]
  },
  {
   "cell_type": "markdown",
   "metadata": {
    "id": "czoPGPXDprsi"
   },
   "source": [
    "**Hyperparameter Optimisation:** carry out hyperparameter optimisation of the various language models using Multilingual language training data."
   ]
  },
  {
   "cell_type": "code",
   "execution_count": null,
   "metadata": {
    "collapsed": true,
    "id": "5qJhg6DCrYO-"
   },
   "outputs": [],
   "source": [
    "! python /content/CL-XLMR_base-LCR-Rot-hop-plus-plus/main_hyperparam.py --year 2016 --phase \"Train\" --language \"Multilingual\" --model-type \"mBERT\" --contrastive-learning \"Rep\""
   ]
  },
  {
   "cell_type": "code",
   "execution_count": null,
   "metadata": {
    "collapsed": true,
    "id": "8LBry0EsrqzT"
   },
   "outputs": [],
   "source": [
    "! python /content/CL-XLMR_base-LCR-Rot-hop-plus-plus/main_hyperparam.py --year 2016 --phase \"Train\" --language \"Multilingual\" --model-type \"xlm-roberta-base\" --contrastive-learning \"Rep\""
   ]
  },
  {
   "cell_type": "markdown",
   "metadata": {
    "id": "S0Ou4lQspup9"
   },
   "source": [
    "**Model Training:** trains the actual models using Multilingual language training data."
   ]
  },
  {
   "cell_type": "code",
   "execution_count": null,
   "metadata": {
    "id": "LFaBvWb14DMp"
   },
   "outputs": [],
   "source": [
    "! python /content/CL-XLMR_base-LCR-Rot-hop-plus-plus/main_train.py --model-type \"mBERT\" --year 2016 --phase \"Train\" --language \"Multilingual\" --hops 2 --learning 0.06 --dropout 0.6000000000000001 --momentum 0.85 --weight-decay 1e-05 --contrastive-learning \"Rep\" --beta 0.3"
   ]
  },
  {
   "cell_type": "code",
   "execution_count": null,
   "metadata": {
    "id": "9aXgg_tt4DMv"
   },
   "outputs": [],
   "source": [
    "! python /content/CL-XLMR_base-LCR-Rot-hop-plus-plus/main_train.py --model-type \"xlm-roberta-base\" --year 2016 --phase \"Train\" --language \"Multilingual\" --hops 2 --learning 0.06 --dropout 0.6000000000000001 --momentum 0.85 --weight-decay 1e-05 --contrastive-learning \"Rep\" --beta 0.5"
   ]
  },
  {
   "cell_type": "markdown",
   "metadata": {
    "id": "WurX3U1Nj2UO"
   },
   "source": [
    "**Model Validation:** validates the models using English language test data."
   ]
  },
  {
   "cell_type": "code",
   "execution_count": null,
   "metadata": {
    "id": "4D_BiNf_j2UO"
   },
   "outputs": [],
   "source": [
    "! python /content/CL-XLMR_base-LCR-Rot-hop-plus-plus/main_validate.py --language \"Spanish\" --model-type \"mBERT\" --model \"/content/drive/MyDrive/data/models/2016_Multilingual_LCR_hops2_dropout0-6000000000000001_acc0-7809315866084425_mBERT_CL_Rep.pt\""
   ]
  },
  {
   "cell_type": "code",
   "execution_count": null,
   "metadata": {
    "id": "fof_0nHtj2UO"
   },
   "outputs": [],
   "source": [
    "! python /content/CL-XLMR_base-LCR-Rot-hop-plus-plus/main_validate.py --language \"Spanish\" --model-type \"xlm-roberta-base\" --model \"/content/drive/MyDrive/data/models/2016_Multilingual_LCR_hops2_dropout0-6000000000000001_acc0-8427947598253275_xlm-roberta-base_CL_Rep.pt\""
   ]
  }
 ],
 "metadata": {
  "accelerator": "GPU",
  "colab": {
   "gpuType": "T4",
   "private_outputs": true,
   "provenance": []
  },
  "kernelspec": {
   "display_name": "Python 3",
   "name": "python3"
  },
  "language_info": {
   "name": "python"
  }
 },
 "nbformat": 4,
 "nbformat_minor": 0
}
