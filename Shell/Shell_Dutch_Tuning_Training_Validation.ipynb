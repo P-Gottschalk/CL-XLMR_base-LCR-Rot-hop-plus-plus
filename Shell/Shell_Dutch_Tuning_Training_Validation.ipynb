{
 "cells": [
  {
   "cell_type": "markdown",
   "metadata": {
    "id": "A6IwkaSjh1Ul"
   },
   "source": [
    "###**Notebook Setup**"
   ]
  },
  {
   "cell_type": "markdown",
   "metadata": {
    "id": "IEAxUJ-S2dJB"
   },
   "source": [
    "**  Mount Prep**"
   ]
  },
  {
   "cell_type": "code",
   "execution_count": null,
   "metadata": {
    "id": "tZlNusdLTV0v"
   },
   "outputs": [],
   "source": [
    "from google.colab import drive\n",
    "drive.mount(\"/content/drive/\")"
   ]
  },
  {
   "cell_type": "markdown",
   "metadata": {
    "id": "vkx1Y9Qj5G_1"
   },
   "source": [
    "**Package Installation:**"
   ]
  },
  {
   "cell_type": "code",
   "execution_count": null,
   "metadata": {
    "id": "1wZfrg344lsI"
   },
   "outputs": [],
   "source": [
    "! pip install matplotlib\n",
    "! pip install torch\n",
    "! pip install transformers\n",
    "! pip install datasets\n",
    "! pip install rdflib\n",
    "! pip install tqdm\n",
    "! pip install requests\n",
    "! pip install hyperopt\n",
    "! pip install scikit-learn"
   ]
  },
  {
   "cell_type": "markdown",
   "metadata": {
    "id": "nu6jBbPL2q4F"
   },
   "source": [
    "**GitHub Cloning:** 90-day access token is used"
   ]
  },
  {
   "cell_type": "code",
   "execution_count": null,
   "metadata": {
    "id": "C-qbm4XreAUf"
   },
   "outputs": [],
   "source": [
    "! rm -r CL-XLMR_base-LCR-Rot-hop-plus-plus #Remove GitHub whilst in session"
   ]
  },
  {
   "cell_type": "code",
   "execution_count": null,
   "metadata": {
    "id": "g9Ovr3oPvWD7"
   },
   "outputs": [],
   "source": [
    "!git clone https://github.com/SmartStevie02/CL-XLMR_base-LCR-Rot-hop-plus-plus.git"
   ]
  },
  {
   "cell_type": "markdown",
   "metadata": {
    "id": "ZiFrbQ5zGo45"
   },
   "source": [
    "### **XLMR-LCR-Rot-hop++:**\n",
    "LCR-Rot-hop++ model, using various embedders, trained on the English dataset."
   ]
  },
  {
   "cell_type": "markdown",
   "metadata": {
    "id": "MTTqHNaDGo45"
   },
   "source": [
    "**Hyperparameter Optimisation:** since this optimisation is carried out using English training data, this is carried out in a seperate file and used to test on all languages."
   ]
  },
  {
   "cell_type": "markdown",
   "metadata": {
    "id": "YCPnTJmqGo46"
   },
   "source": [
    "**Model Training:** since this training is carried out using English training data, this is carried out in a seperate file and used to test on all languages."
   ]
  },
  {
   "cell_type": "markdown",
   "metadata": {
    "id": "Fa3rtdBGGo46"
   },
   "source": [
    "**Model Validation:** validates the models using Dutch language test data."
   ]
  },
  {
   "cell_type": "code",
   "execution_count": null,
   "metadata": {
    "id": "vLSLaVm2Go46"
   },
   "outputs": [],
   "source": [
    "! python /content/CL-XLMR_base-LCR-Rot-hop-plus-plus/main_validate.py --language \"Dutch\" --model-type \"mBERT\" --model \"/content/drive/MyDrive/data/models/2016_English_LCR_hops2_dropout0-6000000000000001_acc0-8218085106382979_mBERT.pt\""
   ]
  },
  {
   "cell_type": "code",
   "execution_count": null,
   "metadata": {
    "id": "NHBoY8M0Go46"
   },
   "outputs": [],
   "source": [
    "! python /content/CL-XLMR_base-LCR-Rot-hop-plus-plus/main_validate.py --language \"Dutch\" --model-type \"xlm-roberta-base\" --model \"/content/drive/MyDrive/data/models/2016_English_LCR_hops2_dropout0-5_acc0-8271276595744681_xlm-roberta-base.pt\""
   ]
  },
  {
   "cell_type": "code",
   "execution_count": null,
   "metadata": {
    "id": "5dfiR_YWGo46"
   },
   "outputs": [],
   "source": [
    "! python /content/CL-XLMR_base-LCR-Rot-hop-plus-plus/main_validate.py --language \"Dutch\" --model-type \"xlm-roberta-large\" --model \"/content/drive/MyDrive/data/models/2016_English_LCR_hops2_dropout0-5_acc0-776595744680851_xlm-roberta-large.pt\""
   ]
  },
  {
   "cell_type": "markdown",
   "metadata": {
    "id": "Z6lXkq_w28id"
   },
   "source": [
    "### **XLMR-LCR-Rot-hop-XX++:**\n",
    "LCR-Rot-hop++ model, using various embedders, trained on the Dutch dataset."
   ]
  },
  {
   "cell_type": "markdown",
   "metadata": {
    "id": "wUulWFqcAuaV"
   },
   "source": [
    "**Hyperparameter Optimisation:** carry out hyperparameter optimisation of the various language models using Dutch language training data."
   ]
  },
  {
   "cell_type": "code",
   "execution_count": null,
   "metadata": {
    "id": "EG6-Hk0iAfn4"
   },
   "outputs": [],
   "source": [
    "! python /content/CL-XLMR_base-LCR-Rot-hop-plus-plus/main_hyperparam.py --year 2016 --phase \"Train\" --language \"Dutch\" --model-type \"mBERT\""
   ]
  },
  {
   "cell_type": "code",
   "execution_count": null,
   "metadata": {
    "id": "sFRBTGMnAhYA"
   },
   "outputs": [],
   "source": [
    "! python /content/CL-XLMR_base-LCR-Rot-hop-plus-plus/main_hyperparam.py --year 2016 --phase \"Train\" --language \"Dutch\" --model-type \"xlm-roberta-base\""
   ]
  },
  {
   "cell_type": "code",
   "execution_count": null,
   "metadata": {
    "id": "FzFpGEN6AhJs"
   },
   "outputs": [],
   "source": [
    "! python /content/CL-XLMR_base-LCR-Rot-hop-plus-plus/main_hyperparam.py --year 2016 --phase \"Train\" --language \"Dutch\" --model-type \"xlm-roberta-large\""
   ]
  },
  {
   "cell_type": "markdown",
   "metadata": {
    "id": "oSK97jQjBw1q"
   },
   "source": [
    "**Model Training:** trains the actual models using Dutch language training data."
   ]
  },
  {
   "cell_type": "code",
   "execution_count": null,
   "metadata": {
    "id": "MzdHkxt0B88x"
   },
   "outputs": [],
   "source": [
    "! python /content/CL-XLMR_base-LCR-Rot-hop-plus-plus/main_train.py --model-type \"mBERT\" --year 2016 --phase \"Train\" --language \"Dutch\" --hops 2 --learning 0.05 --dropout 0.5 --momentum 0.9 --weight-decay 0.01"
   ]
  },
  {
   "cell_type": "code",
   "execution_count": null,
   "metadata": {
    "id": "nqA9QkRtB9tj"
   },
   "outputs": [],
   "source": [
    "! python /content/CL-XLMR_base-LCR-Rot-hop-plus-plus/main_train.py --model-type \"xlm-roberta-base\" --year 2016 --phase \"Train\" --language \"Dutch\" --hops 2 --learning 0.06 --dropout 0.6000000000000001 --momentum 0.85 --weight-decay 1e-05"
   ]
  },
  {
   "cell_type": "code",
   "execution_count": null,
   "metadata": {
    "id": "joT22zzGB9kI"
   },
   "outputs": [],
   "source": [
    "! python /content/CL-XLMR_base-LCR-Rot-hop-plus-plus/main_train.py --model-type \"xlm-roberta-large\" --year 2016 --phase \"Train\" --language \"Dutch\" --hops 2 --learning 0.08 --dropout 0.4 --momentum 0.95 --weight-decay 0.0001"
   ]
  },
  {
   "cell_type": "markdown",
   "metadata": {
    "id": "REmxIHOCGDKK"
   },
   "source": [
    "**Model Validation:** validates the models using Dutch language test data."
   ]
  },
  {
   "cell_type": "code",
   "execution_count": null,
   "metadata": {
    "id": "qOxRjHk7GVtp"
   },
   "outputs": [],
   "source": [
    "! python /content/CL-XLMR_base-LCR-Rot-hop-plus-plus/main_validate.py --language \"Dutch\" --model-type \"mBERT\" --model \"/content/drive/MyDrive/data/models/2016_Dutch_LCR_hops2_dropout0-5_acc0-8093385214007782_mBERT.pt\""
   ]
  },
  {
   "cell_type": "code",
   "execution_count": null,
   "metadata": {
    "id": "lT3IrpuQGWRV"
   },
   "outputs": [],
   "source": [
    "! python /content/CL-XLMR_base-LCR-Rot-hop-plus-plus/main_validate.py --language \"Dutch\" --model-type \"xlm-roberta-base\" --model \"/content/drive/MyDrive/data/models/2016_Dutch_LCR_hops2_dropout0-6000000000000001_acc0-8443579766536965_xlm-roberta-base.pt\""
   ]
  },
  {
   "cell_type": "code",
   "execution_count": null,
   "metadata": {
    "id": "o1k7AxCAGW7L"
   },
   "outputs": [],
   "source": [
    "! python /content/CL-XLMR_base-LCR-Rot-hop-plus-plus/main_validate.py --language \"Dutch\" --model-type \"xlm-roberta-large\" --model \"/content/drive/MyDrive/data/models/2016_Dutch_LCR_hops2_dropout0-4_acc0-8054474708171206_xlm-roberta-large.pt\""
   ]
  },
  {
   "cell_type": "markdown",
   "metadata": {
    "id": "XFfc55XGC9vf"
   },
   "source": [
    "### **XLMR-MLCR-Rot-hop++:**\n",
    "LCR-Rot-hop++ model, using various embedders, trained on a Multilingual dataset."
   ]
  },
  {
   "cell_type": "markdown",
   "metadata": {
    "id": "suHAbGzCC9vg"
   },
   "source": [
    "**Hyperparameter Optimisation:** since this optimisation is carried out using Multilingual training data, this is carried out in a seperate file and used to test on all languages."
   ]
  },
  {
   "cell_type": "markdown",
   "metadata": {
    "id": "Chpj3fgpC9vg"
   },
   "source": [
    "**Model Training:** since this training is carried out using Multilingual training data, this is carried out in a seperate file and used to test on all languages."
   ]
  },
  {
   "cell_type": "markdown",
   "metadata": {
    "id": "R1dKeawMC9vg"
   },
   "source": [
    "**Model Validation:** validates the models using Dutch language test data."
   ]
  },
  {
   "cell_type": "code",
   "execution_count": null,
   "metadata": {
    "id": "LNIrTz2KC9vg"
   },
   "outputs": [],
   "source": [
    "! python /content/CL-XLMR_base-LCR-Rot-hop-plus-plus/main_validate.py --language \"Dutch\" --model-type \"mBERT\" --model \"/content/drive/MyDrive/data/models/2016_Multilingual_LCR_hops2_dropout0-6000000000000001_acc0-7918486171761281_mBERT.pt\""
   ]
  },
  {
   "cell_type": "code",
   "execution_count": null,
   "metadata": {
    "id": "niyzSZL5C9vg"
   },
   "outputs": [],
   "source": [
    "! python /content/CL-XLMR_base-LCR-Rot-hop-plus-plus/main_validate.py --language \"Dutch\" --model-type \"xlm-roberta-base\" --model \"/content/drive/MyDrive/data/models/2016_Multilingual_LCR_hops2_dropout0-4_acc0-8486171761280932_xlm-roberta-base.pt\""
   ]
  },
  {
   "cell_type": "code",
   "execution_count": null,
   "metadata": {
    "id": "j1xqaus2C9vh"
   },
   "outputs": [],
   "source": [
    "! python /content/CL-XLMR_base-LCR-Rot-hop-plus-plus/main_validate.py --language \"Dutch\" --model-type \"xlm-roberta-large\" --model \"/content/drive/MyDrive/data/models/2016_Multilingual_LCR_hops2_dropout0-6000000000000001_acc0-8398835516739447_xlm-roberta-large.pt\""
   ]
  },
  {
   "cell_type": "markdown",
   "metadata": {
    "id": "epcQ2wdaDWac"
   },
   "source": [
    "### **XLMR-LCR-Rot-hop-ACS_NL++:**\n",
    "LCR-Rot-hop++ model, using various embedders, trained on a dataset which is created using Aspect-Code Switching."
   ]
  },
  {
   "cell_type": "markdown",
   "metadata": {
    "id": "G1SUu32bDWac"
   },
   "source": [
    "**Hyperparameter Optimisation:** carry out hyperparameter optimisation of the various language models using Dutch language training data."
   ]
  },
  {
   "cell_type": "code",
   "execution_count": null,
   "metadata": {
    "id": "-90tWyvZDWac"
   },
   "outputs": [],
   "source": [
    "! python /content/CL-XLMR_base-LCR-Rot-hop-plus-plus/main_hyperparam.py --year 2016 --phase \"Train\" --language \"XACSforDutch\" --model-type \"mBERT\""
   ]
  },
  {
   "cell_type": "code",
   "execution_count": null,
   "metadata": {
    "id": "zMHVzvkqDWac"
   },
   "outputs": [],
   "source": [
    "! python /content/CL-XLMR_base-LCR-Rot-hop-plus-plus/main_hyperparam.py --year 2016 --phase \"Train\" --language \"XACSforDutch\" --model-type \"xlm-roberta-base\""
   ]
  },
  {
   "cell_type": "code",
   "execution_count": null,
   "metadata": {
    "id": "8NzjdM-3DWac"
   },
   "outputs": [],
   "source": [
    "! python /content/CL-XLMR_base-LCR-Rot-hop-plus-plus/main_hyperparam.py --year 2016 --phase \"Train\" --language \"XACSforDutch\" --model-type \"xlm-roberta-large\""
   ]
  },
  {
   "cell_type": "markdown",
   "metadata": {
    "id": "Lo7fFe2qIhml"
   },
   "source": [
    "**Model Training:** trains the actual models using ACS Dutch language training data."
   ]
  },
  {
   "cell_type": "code",
   "execution_count": null,
   "metadata": {
    "id": "_m_UegcyIhml"
   },
   "outputs": [],
   "source": [
    "! python /content/CL-XLMR_base-LCR-Rot-hop-plus-plus/main_train.py --model-type \"mBERT\" --year 2016 --phase \"Train\" --language \"XACSforDutch\" --hops 2 --learning 0.06 --dropout 0.6000000000000001 --momentum 0.85 --weight-decay 1e-05"
   ]
  },
  {
   "cell_type": "code",
   "execution_count": null,
   "metadata": {
    "id": "VT8Vm4rFIhml"
   },
   "outputs": [],
   "source": [
    "! python /content/CL-XLMR_base-LCR-Rot-hop-plus-plus/main_train.py --model-type \"xlm-roberta-base\" --year 2016 --phase \"Train\" --language \"XACSforDutch\" --hops 2 --learning 0.06 --dropout 0.6000000000000001 --momentum 0.85 --weight-decay  1e-05"
   ]
  },
  {
   "cell_type": "code",
   "execution_count": null,
   "metadata": {
    "id": "iy3npKUQIhml"
   },
   "outputs": [],
   "source": [
    "! python /content/CL-XLMR_base-LCR-Rot-hop-plus-plus/main_train.py --model-type \"xlm-roberta-large\" --year 2016 --phase \"Train\" --language \"XACSforDutch\" --hops 2 --learning 0.06 --dropout 0.6000000000000001 --momentum 0.85 --weight-decay  1e-05"
   ]
  },
  {
   "cell_type": "markdown",
   "metadata": {
    "id": "RpNw0XhHt0fA"
   },
   "source": [
    "**Model Validation:** validates the models using Dutch language test data."
   ]
  },
  {
   "cell_type": "code",
   "execution_count": null,
   "metadata": {
    "id": "RUwIBCbpt0fB"
   },
   "outputs": [],
   "source": [
    "! python /content/CL-XLMR_base-LCR-Rot-hop-plus-plus/main_validate.py --language \"Dutch\" --model-type \"mBERT\" --model \"/content/drive/MyDrive/data/models/2016_XACSforDutch_LCR_hops2_dropout0-6000000000000001_acc0-8990578734858681_mBERT.pt\""
   ]
  },
  {
   "cell_type": "code",
   "execution_count": null,
   "metadata": {
    "id": "4wsZgHubt0fB"
   },
   "outputs": [],
   "source": [
    "! python /content/CL-XLMR_base-LCR-Rot-hop-plus-plus/main_validate.py --language \"Dutch\" --model-type \"xlm-roberta-base\" --model \"/content/drive/MyDrive/data/models/2016_XACSforDutch_LCR_hops2_dropout0-6000000000000001_acc0-8835800807537012_xlm-roberta-base.pt\""
   ]
  },
  {
   "cell_type": "code",
   "execution_count": null,
   "metadata": {
    "id": "Y-Ul4PF8t0fB"
   },
   "outputs": [],
   "source": [
    "! python /content/CL-XLMR_base-LCR-Rot-hop-plus-plus/main_validate.py --language \"Dutch\" --model-type \"xlm-roberta-large\" --model \"/content/drive/MyDrive/data/models/2016_XACSforDutch_LCR_hops2_dropout0-6000000000000001_acc0-8539703903095559_xlm-roberta-large.pt\""
   ]
  },
  {
   "cell_type": "markdown",
   "metadata": {
    "id": "A6foZ_VmgPEa"
   },
   "source": [
    "### **CLS-XLMR-LCR-Rot-hop++:**\n",
    "LCR-Rot-hop++ model, using various embedders, trained on the English dataset, using sentiment-level contrastive learning."
   ]
  },
  {
   "cell_type": "markdown",
   "metadata": {
    "id": "70n2L1MngPEb"
   },
   "source": [
    "**Hyperparameter Optimisation:** since this optimisation is carried out using English training data, this is carried out in a seperate file and used to test on all languages."
   ]
  },
  {
   "cell_type": "markdown",
   "metadata": {
    "id": "XsWQs5LkgPEb"
   },
   "source": [
    "**Model Training:** since this training is carried out using English training data, this is carried out in a seperate file and used to test on all languages."
   ]
  },
  {
   "cell_type": "markdown",
   "metadata": {
    "id": "SotXSIElgPEb"
   },
   "source": [
    "**Model Validation:** validates the models using Dutch language test data."
   ]
  },
  {
   "cell_type": "code",
   "execution_count": null,
   "metadata": {
    "id": "Q3dYTsZYgPEb"
   },
   "outputs": [],
   "source": [
    "! python /content/CL-XLMR_base-LCR-Rot-hop-plus-plus/main_validate.py --language \"Dutch\" --model-type \"mBERT\" --model \"/content/drive/MyDrive/data/models/2016_English_LCR_hops2_dropout0-6000000000000001_acc0-8377659574468085_mBERT_CL_Sen.pt\""
   ]
  },
  {
   "cell_type": "code",
   "execution_count": null,
   "metadata": {
    "id": "Of72iesUgPEb"
   },
   "outputs": [],
   "source": [
    "! python /content/CL-XLMR_base-LCR-Rot-hop-plus-plus/main_validate.py --language \"Dutch\" --model-type \"xlm-roberta-base\" --model \"/content/drive/MyDrive/data/models/2016_English_LCR_hops2_dropout0-6000000000000001_acc0-8537234042553191_xlm-roberta-base_CL_Sen.pt\""
   ]
  },
  {
   "cell_type": "markdown",
   "metadata": {
    "id": "03BHBw6qnTBJ"
   },
   "source": [
    "### **CLR-XLMR-LCR-Rot-hop++:**\n",
    "LCR-Rot-hop++ model, using various embedders, trained on the English dataset, using representation-level contrastive learning."
   ]
  },
  {
   "cell_type": "markdown",
   "metadata": {
    "id": "A7JcQ9PrnTBQ"
   },
   "source": [
    "**Hyperparameter Optimisation:** since this optimisation is carried out using English training data, this is carried out in a seperate file and used to test on all languages."
   ]
  },
  {
   "cell_type": "markdown",
   "metadata": {
    "id": "8AtJV_p2nTBQ"
   },
   "source": [
    "**Model Training:** since this training is carried out using English training data, this is carried out in a seperate file and used to test on all languages."
   ]
  },
  {
   "cell_type": "markdown",
   "metadata": {
    "id": "AAmvt3aNnTBQ"
   },
   "source": [
    "**Model Validation:** validates the models using Dutch language test data."
   ]
  },
  {
   "cell_type": "code",
   "execution_count": null,
   "metadata": {
    "id": "kDJz-H1znTBR"
   },
   "outputs": [],
   "source": [
    "! python /content/CL-XLMR_base-LCR-Rot-hop-plus-plus/main_validate.py --language \"Dutch\" --model-type \"mBERT\" --model \"/content/drive/MyDrive/data/models/2016_English_LCR_hops2_dropout0-4_acc0-8351063829787234_mBERT_CL_Rep.pt\""
   ]
  },
  {
   "cell_type": "code",
   "execution_count": null,
   "metadata": {
    "id": "zC6KMm6EnTBR"
   },
   "outputs": [],
   "source": [
    "! python /content/CL-XLMR_base-LCR-Rot-hop-plus-plus/main_validate.py --language \"Dutch\" --model-type \"xlm-roberta-base\" --model \"/content/drive/MyDrive/data/models/2016_English_LCR_hops2_dropout0-4_acc0-848404255319149_xlm-roberta-base_CL_Rep.pt\""
   ]
  },
  {
   "cell_type": "markdown",
   "metadata": {
    "id": "7aoIVjsMkQN1"
   },
   "source": [
    "### **CLS-XLMR-LCR-Rot-hop-XX++:**\n",
    "LCR-Rot-hop++ model, using various embedders, trained on the Dutch dataset, using sentiment-level contrastive learning."
   ]
  },
  {
   "cell_type": "markdown",
   "metadata": {
    "id": "A3zbkHTspqrd"
   },
   "source": [
    "**Hyperparameter Optimisation:** carry out hyperparameter optimisation of the various language models using Dutch language training data."
   ]
  },
  {
   "cell_type": "code",
   "execution_count": null,
   "metadata": {
    "collapsed": true,
    "id": "VGHjZRRxrnEv"
   },
   "outputs": [],
   "source": [
    "! python /content/CL-XLMR_base-LCR-Rot-hop-plus-plus/main_hyperparam.py --year 2016 --phase \"Train\" --language \"Dutch\" --model-type \"mBERT\" --contrastive-learning \"Sen\""
   ]
  },
  {
   "cell_type": "code",
   "execution_count": null,
   "metadata": {
    "collapsed": true,
    "id": "QFBueKDArqzT"
   },
   "outputs": [],
   "source": [
    "! python /content/CL-XLMR_base-LCR-Rot-hop-plus-plus/main_hyperparam.py --year 2016 --phase \"Train\" --language \"Dutch\" --model-type \"xlm-roberta-base\" --contrastive-learning \"Sen\""
   ]
  },
  {
   "cell_type": "markdown",
   "metadata": {
    "id": "-tTaAMzcpwyG"
   },
   "source": [
    "**Model Training:** trains the actual models using Dutch language training data."
   ]
  },
  {
   "cell_type": "code",
   "execution_count": null,
   "metadata": {
    "id": "5GicVihbBHGG"
   },
   "outputs": [],
   "source": [
    "! python /content/CL-XLMR_base-LCR-Rot-hop-plus-plus/main_train.py --model-type \"mBERT\" --year 2016 --phase \"Train\" --language \"Dutch\" --hops 2 --learning 0.08 --dropout 0.4 --momentum 0.95 --weight-decay 0.0001 --contrastive-learning \"Sen\" --beta 0.5"
   ]
  },
  {
   "cell_type": "code",
   "execution_count": null,
   "metadata": {
    "id": "fkreOJZSD8nH"
   },
   "outputs": [],
   "source": [
    "! python /content/CL-XLMR_base-LCR-Rot-hop-plus-plus/main_train.py --model-type \"xlm-roberta-base\" --year 2016 --phase \"Train\" --language \"Dutch\" --hops 2 --learning 0.06 --dropout 0.6000000000000001 --momentum 0.85 --weight-decay 1e-05 --contrastive-learning \"Sen\" --beta 0.5"
   ]
  },
  {
   "cell_type": "markdown",
   "metadata": {
    "id": "zG7032ngkW4N"
   },
   "source": [
    "**Model Validation:** validates the models using Dutch language test data."
   ]
  },
  {
   "cell_type": "code",
   "execution_count": null,
   "metadata": {
    "id": "xQy_iq-5kW4O"
   },
   "outputs": [],
   "source": [
    "! python /content/CL-XLMR_base-LCR-Rot-hop-plus-plus/main_validate.py --language \"Dutch\" --model-type \"mBERT\" --model \"/content/drive/MyDrive/data/models/2016_Dutch_LCR_hops2_dropout0-4_acc0-8171206225680934_mBERT_CL_Sen.pt\""
   ]
  },
  {
   "cell_type": "code",
   "execution_count": null,
   "metadata": {
    "id": "NooFehXQkW4O"
   },
   "outputs": [],
   "source": [
    "! python /content/CL-XLMR_base-LCR-Rot-hop-plus-plus/main_validate.py --language \"Dutch\" --model-type \"xlm-roberta-base\" --model \"/content/drive/MyDrive/data/models/2016_Dutch_LCR_hops2_dropout0-6000000000000001_acc0-8482490272373541_xlm-roberta-base_CL_Sen.pt\""
   ]
  },
  {
   "cell_type": "markdown",
   "metadata": {
    "id": "2MGpsbb4j2UO"
   },
   "source": [
    "### **CLR-XLMR-LCR-Rot-hop-XX++:**\n",
    "LCR-Rot-hop++ model, using various embedders, trained on the Dutch dataset, using representation-level contrastive learning."
   ]
  },
  {
   "cell_type": "markdown",
   "metadata": {
    "id": "czoPGPXDprsi"
   },
   "source": [
    "**Hyperparameter Optimisation:** carry out hyperparameter optimisation of the various language models using Dutch language training data."
   ]
  },
  {
   "cell_type": "code",
   "execution_count": null,
   "metadata": {
    "collapsed": true,
    "id": "5qJhg6DCrYO-"
   },
   "outputs": [],
   "source": [
    "! python /content/CL-XLMR_base-LCR-Rot-hop-plus-plus/main_hyperparam.py --year 2016 --phase \"Train\" --language \"Dutch\" --model-type \"mBERT\" --contrastive-learning \"Rep\""
   ]
  },
  {
   "cell_type": "code",
   "execution_count": null,
   "metadata": {
    "collapsed": true,
    "id": "8LBry0EsrqzT"
   },
   "outputs": [],
   "source": [
    "! python /content/CL-XLMR_base-LCR-Rot-hop-plus-plus/main_hyperparam.py --year 2016 --phase \"Train\" --language \"Dutch\" --model-type \"xlm-roberta-base\" --contrastive-learning \"Rep\""
   ]
  },
  {
   "cell_type": "markdown",
   "metadata": {
    "id": "S0Ou4lQspup9"
   },
   "source": [
    "**Model Training:** trains the actual models using Dutch language training data."
   ]
  },
  {
   "cell_type": "code",
   "execution_count": null,
   "metadata": {
    "id": "LFaBvWb14DMp"
   },
   "outputs": [],
   "source": [
    "! python /content/CL-XLMR_base-LCR-Rot-hop-plus-plus/main_train.py --model-type \"mBERT\" --year 2016 --phase \"Train\" --language \"Dutch\" --hops 2 --learning 0.06 --dropout 0.6000000000000001 --momentum 0.85 --weight-decay 1e-05 --contrastive-learning \"Rep\" --beta 0.4"
   ]
  },
  {
   "cell_type": "code",
   "execution_count": null,
   "metadata": {
    "id": "9aXgg_tt4DMv"
   },
   "outputs": [],
   "source": [
    "! python /content/CL-XLMR_base-LCR-Rot-hop-plus-plus/main_train.py --model-type \"xlm-roberta-base\" --year 2016 --phase \"Train\" --language \"Dutch\" --hops 2 --learning 0.08 --dropout 0.4 --momentum 0.95 --weight-decay 0.0001 --contrastive-learning \"Rep\" --beta 0.1"
   ]
  },
  {
   "cell_type": "markdown",
   "metadata": {
    "id": "WurX3U1Nj2UO"
   },
   "source": [
    "**Model Validation:** validates the models using Dutch language test data."
   ]
  },
  {
   "cell_type": "code",
   "execution_count": null,
   "metadata": {
    "id": "4D_BiNf_j2UO"
   },
   "outputs": [],
   "source": [
    "! python /content/CL-XLMR_base-LCR-Rot-hop-plus-plus/main_validate.py --language \"Dutch\" --model-type \"mBERT\" --model \"/content/drive/MyDrive/data/models/2016_Dutch_LCR_hops2_dropout0-6000000000000001_acc0-8171206225680934_mBERT_CL_Rep.pt\""
   ]
  },
  {
   "cell_type": "code",
   "execution_count": null,
   "metadata": {
    "id": "fof_0nHtj2UO"
   },
   "outputs": [],
   "source": [
    "! python /content/CL-XLMR_base-LCR-Rot-hop-plus-plus/main_validate.py --language \"Dutch\" --model-type \"xlm-roberta-base\" --model \"/content/drive/MyDrive/data/models/2016_Dutch_LCR_hops2_dropout0-4_acc0-7976653696498055_xlm-roberta-base_CL_Rep.pt\""
   ]
  },
  {
   "cell_type": "markdown",
   "metadata": {
    "id": "SoELtyWLYbNi"
   },
   "source": [
    "### **CLS-XLMR-MLCR-Rot-hop++:**\n",
    "LCR-Rot-hop++ model, using various embedders, trained on the Multilingual dataset, using sentiment-level contrastive learning."
   ]
  },
  {
   "cell_type": "markdown",
   "metadata": {
    "id": "n9f1RRfxYbNi"
   },
   "source": [
    "**Hyperparameter Optimisation:** since this optimisation is carried out using Multilingual training data, this is carried out in a seperate file and used to test on all languages."
   ]
  },
  {
   "cell_type": "markdown",
   "metadata": {
    "id": "q7w8wuRKYbNi"
   },
   "source": [
    "**Model Training:** since this training is carried out using Multilingual training data, this is carried out in a seperate file and used to test on all languages."
   ]
  },
  {
   "cell_type": "markdown",
   "metadata": {
    "id": "H2-wFwu5YbNi"
   },
   "source": [
    "**Model Validation:** validates the models using Dutch language test data."
   ]
  },
  {
   "cell_type": "code",
   "execution_count": null,
   "metadata": {
    "id": "rvoVUpojYbNi"
   },
   "outputs": [],
   "source": [
    "! python /content/CL-XLMR_base-LCR-Rot-hop-plus-plus/main_validate.py --language \"Dutch\" --model-type \"mBERT\" --model \"/content/drive/MyDrive/data/models/2016_Multilingual_LCR_hops2_dropout0-6000000000000001_acc0-7983988355167394_mBERT_CL_Sen.pt\""
   ]
  },
  {
   "cell_type": "code",
   "execution_count": null,
   "metadata": {
    "id": "7QgL6m_QYbNi"
   },
   "outputs": [],
   "source": [
    "! python /content/CL-XLMR_base-LCR-Rot-hop-plus-plus/main_validate.py --language \"Dutch\" --model-type \"xlm-roberta-base\" --model \"/content/drive/MyDrive/data/models/2016_Multilingual_LCR_hops2_dropout0-6000000000000001_acc0-8522561863173217_xlm-roberta-base_CL_Sen.pt\""
   ]
  },
  {
   "cell_type": "markdown",
   "metadata": {
    "id": "lsjDUE5MYbNi"
   },
   "source": [
    "### **CLR-XLMR-MLCR-Rot-hop++:**\n",
    "LCR-Rot-hop++ model, using various embedders, trained on the Multilingual dataset, using representation-level contrastive learning."
   ]
  },
  {
   "cell_type": "markdown",
   "metadata": {
    "id": "bw5fxwt6YbNj"
   },
   "source": [
    "**Hyperparameter Optimisation:** since this optimisation is carried out using Multilingual training data, this is carried out in a seperate file and used to test on all languages."
   ]
  },
  {
   "cell_type": "markdown",
   "metadata": {
    "id": "NKCjvGl4YbNj"
   },
   "source": [
    "**Model Training:** since this training is carried out using Multilingual training data, this is carried out in a seperate file and used to test on all languages."
   ]
  },
  {
   "cell_type": "markdown",
   "metadata": {
    "id": "Zt8SLXhGYbNj"
   },
   "source": [
    "**Model Validation:** validates the models using Dutch language test data."
   ]
  },
  {
   "cell_type": "code",
   "execution_count": null,
   "metadata": {
    "id": "sLcLrsGgYbNj"
   },
   "outputs": [],
   "source": [
    "! python /content/CL-XLMR_base-LCR-Rot-hop-plus-plus/main_validate.py --language \"Dutch\" --model-type \"mBERT\" --model \"/content/drive/MyDrive/data/models/2016_Multilingual_LCR_hops2_dropout0-6000000000000001_acc0-7809315866084425_mBERT_CL_Rep.pt\""
   ]
  },
  {
   "cell_type": "code",
   "execution_count": null,
   "metadata": {
    "id": "fKnPcsu7YbNj"
   },
   "outputs": [],
   "source": [
    "! python /content/CL-XLMR_base-LCR-Rot-hop-plus-plus/main_validate.py --language \"Dutch\" --model-type \"xlm-roberta-base\" --model \"/content/drive/MyDrive/data/models/2016_Multilingual_LCR_hops2_dropout0-6000000000000001_acc0-8427947598253275_xlm-roberta-base_CL_Rep.pt\""
   ]
  },
  {
   "cell_type": "markdown",
   "metadata": {
    "id": "Bg1c0vhbsBh4"
   },
   "source": [
    "### **CLS-XLMR-LCR-Rot-hop-ACS_NL++:**\n",
    "LCR-Rot-hop++ model, using various embedders, trained on the Dutch ACS dataset, using sentiment-level contrastive learning."
   ]
  },
  {
   "cell_type": "markdown",
   "metadata": {
    "id": "E4dSu4ImsBh5"
   },
   "source": [
    "**Hyperparameter Optimisation:** carry out hyperparameter optimisation of the various language models using Dutch ACS language training data."
   ]
  },
  {
   "cell_type": "code",
   "execution_count": null,
   "metadata": {
    "collapsed": true,
    "id": "6ngKn4nOsBh5"
   },
   "outputs": [],
   "source": [
    "! python /content/CL-XLMR_base-LCR-Rot-hop-plus-plus/main_hyperparam.py --year 2016 --phase \"Train\" --language \"XACSforDutch\" --model-type \"mBERT\" --contrastive-learning \"Sen\""
   ]
  },
  {
   "cell_type": "code",
   "execution_count": null,
   "metadata": {
    "collapsed": true,
    "id": "MP85QlzOsBh5"
   },
   "outputs": [],
   "source": [
    "! python /content/CL-XLMR_base-LCR-Rot-hop-plus-plus/main_hyperparam.py --year 2016 --phase \"Train\" --language \"XACSforDutch\" --model-type \"xlm-roberta-base\" --contrastive-learning \"Sen\""
   ]
  },
  {
   "cell_type": "markdown",
   "metadata": {
    "id": "sLUbZI1KsBh5"
   },
   "source": [
    "**Model Training:** trains the actual models using Dutch ACS language training data."
   ]
  },
  {
   "cell_type": "code",
   "execution_count": null,
   "metadata": {
    "id": "93-CDt2JsBh6"
   },
   "outputs": [],
   "source": [
    "! python /content/CL-XLMR_base-LCR-Rot-hop-plus-plus/main_train.py --model-type \"mBERT\" --year 2016 --phase \"Train\" --language \"XACSforDutch\" --hops 2 --learning 0.06 --dropout  0.6000000000000001 --momentum 0.85 --weight-decay 1e-05 --contrastive-learning \"Sen\" --beta 0.5"
   ]
  },
  {
   "cell_type": "code",
   "execution_count": null,
   "metadata": {
    "id": "SIGCWz3HsBh6"
   },
   "outputs": [],
   "source": [
    "! python /content/CL-XLMR_base-LCR-Rot-hop-plus-plus/main_train.py --model-type \"xlm-roberta-base\" --year 2016 --phase \"Train\" --language \"XACSforDutch\" --hops 2 --learning 0.06 --dropout  0.6000000000000001 --momentum 0.85 --weight-decay 1e-05 --contrastive-learning \"Sen\" --beta 0.5"
   ]
  },
  {
   "cell_type": "markdown",
   "metadata": {
    "id": "RMSDV-7ssBh6"
   },
   "source": [
    "**Model Validation:** validates the models using Dutch language test data."
   ]
  },
  {
   "cell_type": "code",
   "execution_count": null,
   "metadata": {
    "id": "S_-nkiIgsBh6"
   },
   "outputs": [],
   "source": [
    "! python /content/CL-XLMR_base-LCR-Rot-hop-plus-plus/main_validate.py --language \"Dutch\" --model-type \"mBERT\" --model \"/content/drive/MyDrive/data/models/2016_XACSforDutch_LCR_hops2_dropout0-6000000000000001_acc0-923956931359354_mBERT_CL_Sen.pt\""
   ]
  },
  {
   "cell_type": "code",
   "execution_count": null,
   "metadata": {
    "id": "MoFti0QSsBh6"
   },
   "outputs": [],
   "source": [
    "! python /content/CL-XLMR_base-LCR-Rot-hop-plus-plus/main_validate.py --language \"Dutch\" --model-type \"xlm-roberta-base\" --model \"/content/drive/MyDrive/data/models/2016_XACSforDutch_LCR_hops2_dropout0-6000000000000001_acc0-9118438761776582_xlm-roberta-base_CL_Sen.pt\""
   ]
  },
  {
   "cell_type": "markdown",
   "metadata": {
    "id": "LxxGqWThsBh6"
   },
   "source": [
    "### **CLR-XLMR-LCR-Rot-hop-ACS_NL++:**\n",
    "LCR-Rot-hop++ model, using various embedders, trained on the Dutch ACS dataset, using representation-level contrastive learning."
   ]
  },
  {
   "cell_type": "markdown",
   "metadata": {
    "id": "iItQixUEsBh6"
   },
   "source": [
    "**Hyperparameter Optimisation:** carry out hyperparameter optimisation of the various language models using Dutch ACS language training data."
   ]
  },
  {
   "cell_type": "code",
   "execution_count": null,
   "metadata": {
    "collapsed": true,
    "id": "_AEGjazGsBh6"
   },
   "outputs": [],
   "source": [
    "! python /content/CL-XLMR_base-LCR-Rot-hop-plus-plus/main_hyperparam.py --year 2016 --phase \"Train\" --language \"XACSforDutch\" --model-type \"mBERT\" --contrastive-learning \"Rep\""
   ]
  },
  {
   "cell_type": "code",
   "execution_count": null,
   "metadata": {
    "collapsed": true,
    "id": "-LpWhfWTsBh6"
   },
   "outputs": [],
   "source": [
    "! python /content/CL-XLMR_base-LCR-Rot-hop-plus-plus/main_hyperparam.py --year 2016 --phase \"Train\" --language \"XACSforDutch\" --model-type \"xlm-roberta-base\" --contrastive-learning \"Rep\""
   ]
  },
  {
   "cell_type": "markdown",
   "metadata": {
    "id": "kzt9_XxpsBh6"
   },
   "source": [
    "**Model Training:** trains the actual models using Dutch ACS language training data."
   ]
  },
  {
   "cell_type": "code",
   "execution_count": null,
   "metadata": {
    "id": "1HSMQFbFsBh6"
   },
   "outputs": [],
   "source": [
    "! python /content/CL-XLMR_base-LCR-Rot-hop-plus-plus/main_train.py --model-type \"mBERT\" --year 2016 --phase \"Train\" --language \"XACSforDutch\" --hops 2 --learning 0.06 --dropout  0.6000000000000001 --momentum 0.85 --weight-decay 1e-05 --contrastive-learning \"Rep\" --beta 0.3"
   ]
  },
  {
   "cell_type": "code",
   "execution_count": null,
   "metadata": {
    "id": "tU36d98PsBh6"
   },
   "outputs": [],
   "source": [
    "! python /content/CL-XLMR_base-LCR-Rot-hop-plus-plus/main_train.py --model-type \"xlm-roberta-base\" --year 2016 --phase \"Train\" --language \"XACSforDutch\" --hops 2 --learning 0.06 --dropout  0.6000000000000001 --momentum 0.85 --weight-decay 1e-05 --contrastive-learning \"Rep\" --beta 0.3"
   ]
  },
  {
   "cell_type": "markdown",
   "metadata": {
    "id": "3dXi6NuVsBh7"
   },
   "source": [
    "**Model Validation:** validates the models using Dutch language test data."
   ]
  },
  {
   "cell_type": "code",
   "execution_count": null,
   "metadata": {
    "id": "M3iDndJ1sBh7"
   },
   "outputs": [],
   "source": [
    "! python /content/CL-XLMR_base-LCR-Rot-hop-plus-plus/main_validate.py --language \"Dutch\" --model-type \"mBERT\" --model \"/content/drive/MyDrive/data/models/2016_XACSforDutch_LCR_hops2_dropout0-6000000000000001_acc0-8822341857335128_mBERT_CL_Rep.pt\""
   ]
  },
  {
   "cell_type": "code",
   "execution_count": null,
   "metadata": {
    "id": "QalxczgysBh7"
   },
   "outputs": [],
   "source": [
    "! python /content/CL-XLMR_base-LCR-Rot-hop-plus-plus/main_validate.py --language \"Dutch\" --model-type \"xlm-roberta-base\" --model \"/content/drive/MyDrive/data/models/2016_XACSforDutch_LCR_hops2_dropout0-6000000000000001_acc0-8559892328398385_xlm-roberta-base_CL_Rep.pt\""
   ]
  }
 ],
 "metadata": {
  "accelerator": "GPU",
  "colab": {
   "gpuType": "T4",
   "private_outputs": true,
   "provenance": []
  },
  "kernelspec": {
   "display_name": "Python 3",
   "name": "python3"
  },
  "language_info": {
   "name": "python"
  }
 },
 "nbformat": 4,
 "nbformat_minor": 0
}
