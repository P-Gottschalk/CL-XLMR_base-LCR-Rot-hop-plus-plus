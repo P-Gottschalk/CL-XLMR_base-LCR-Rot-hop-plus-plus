{
 "cells": [
  {
   "cell_type": "markdown",
   "metadata": {
    "id": "A6IwkaSjh1Ul"
   },
   "source": [
    "###**Notebook Setup**"
   ]
  },
  {
   "cell_type": "markdown",
   "metadata": {
    "id": "IEAxUJ-S2dJB"
   },
   "source": [
    "**Mount Prep**"
   ]
  },
  {
   "cell_type": "code",
   "execution_count": null,
   "metadata": {
    "id": "tZlNusdLTV0v"
   },
   "outputs": [],
   "source": [
    "from google.colab import drive\n",
    "drive.mount(\"/content/drive/\")"
   ]
  },
  {
   "cell_type": "markdown",
   "metadata": {
    "id": "vkx1Y9Qj5G_1"
   },
   "source": [
    "**Package Installation:**"
   ]
  },
  {
   "cell_type": "code",
   "execution_count": null,
   "metadata": {
    "id": "1wZfrg344lsI"
   },
   "outputs": [],
   "source": [
    "! pip install matplotlib\n",
    "! pip install torch\n",
    "! pip install transformers\n",
    "! pip install datasets\n",
    "! pip install rdflib\n",
    "! pip install tqdm\n",
    "! pip install requests\n",
    "! pip install hyperopt\n",
    "! pip install scikit-learn"
   ]
  },
  {
   "cell_type": "markdown",
   "metadata": {
    "id": "nu6jBbPL2q4F"
   },
   "source": [
    "**GitHub Cloning:** 90-day access token is used"
   ]
  },
  {
   "cell_type": "code",
   "execution_count": null,
   "metadata": {
    "id": "C-qbm4XreAUf"
   },
   "outputs": [],
   "source": [
    "! rm -r CL-XLMR_base-LCR-Rot-hop-plus-plus #Remove GitHub whilst in session"
   ]
  },
  {
   "cell_type": "code",
   "execution_count": null,
   "metadata": {
    "id": "g9Ovr3oPvWD7"
   },
   "outputs": [],
   "source": [
    "!git clone https://github.com/SmartStevie02/CL-XLMR_base-LCR-Rot-hop-plus-plus.git"
   ]
  },
  {
   "cell_type": "markdown",
   "metadata": {
    "id": "yo_G8FLSQWym"
   },
   "source": [
    "##**t-SNE Plotting Labels**\n",
    "\n",
    "**Note 1:** The first run with each type of embeddings (mBERT, xlm-roberta-base, xlm-roberta-large) takes longer to run. Assuming that the runtime is not interrupted, subsequent runtimes will run within ~1 minute (T4 GPU).\n",
    "\n",
    "**Note 2:** Each section contains all base models, and all associated contrastive learning models."
   ]
  },
  {
   "cell_type": "markdown",
   "metadata": {
    "id": "NR7D_DRtSB8Y"
   },
   "source": [
    "###**XLMR-LCR-Rot-hop++**\n",
    "\n",
    "**Note:** only model-base parameter needs a model"
   ]
  },
  {
   "cell_type": "markdown",
   "metadata": {
    "id": "skdetfWPSnxP"
   },
   "source": [
    "####**Base Models**"
   ]
  },
  {
   "cell_type": "code",
   "execution_count": null,
   "metadata": {
    "id": "HQcoOLAFS-Dv"
   },
   "outputs": [],
   "source": [
    "! python /content/CL-XLMR_base-LCR-Rot-hop-plus-plus/main_plot.py --type-plot \"label\" --model-type \"mBERT\" --plot-name \"mLCR-Rot-hop-plus-plus\" --model-base \"/content/drive/MyDrive/data/models/2016_English_LCR_hops2_dropout0-6000000000000001_acc0-8218085106382979_mBERT.pt\""
   ]
  },
  {
   "cell_type": "code",
   "execution_count": null,
   "metadata": {
    "id": "FKxdvUmyTNga"
   },
   "outputs": [],
   "source": [
    "! python /content/CL-XLMR_base-LCR-Rot-hop-plus-plus/main_plot.py --type-plot \"label\" --model-type \"xlm-roberta-base\" --plot-name \"XLMRbase-LCR-Rot-hop-plus-plus\" --model-base \"/content/drive/MyDrive/data/models/2016_English_LCR_hops2_dropout0-5_acc0-8271276595744681_xlm-roberta-base.pt\""
   ]
  },
  {
   "cell_type": "code",
   "execution_count": null,
   "metadata": {
    "id": "t-34eyQ4TNyW"
   },
   "outputs": [],
   "source": [
    "! python /content/CL-XLMR_base-LCR-Rot-hop-plus-plus/main_plot.py --type-plot \"label\" --model-type \"xlm-roberta-large\" --plot-name \"XLMR-LCR-Rot-hop-plus-plus\" --model-base \"/content/drive/MyDrive/data/models/2016_English_LCR_hops2_dropout0-5_acc0-776595744680851_xlm-roberta-large.pt\""
   ]
  },
  {
   "cell_type": "markdown",
   "metadata": {
    "id": "HmbM5_3NTsXK"
   },
   "source": [
    "####**CLS Models**"
   ]
  },
  {
   "cell_type": "code",
   "execution_count": null,
   "metadata": {
    "id": "9e5uzJXxTsXL"
   },
   "outputs": [],
   "source": [
    "! python /content/CL-XLMR_base-LCR-Rot-hop-plus-plus/main_plot.py --type-plot \"label\" --model-type \"mBERT\" --plot-name \"CLS-mLCR-Rot-hop-plus-plus\" --model-base \"/content/drive/MyDrive/data/models/2016_English_LCR_hops2_dropout0-6000000000000001_acc0-8377659574468085_mBERT_CL_Sen.pt\""
   ]
  },
  {
   "cell_type": "code",
   "execution_count": null,
   "metadata": {
    "id": "mzq42lWXTsXL"
   },
   "outputs": [],
   "source": [
    "! python /content/CL-XLMR_base-LCR-Rot-hop-plus-plus/main_plot.py --type-plot \"label\" --model-type \"xlm-roberta-base\" --plot-name \"CLS-XLMRbase-LCR-Rot-hop-plus-plus\" --model-base \"/content/drive/MyDrive/data/models/2016_English_LCR_hops2_dropout0-6000000000000001_acc0-8537234042553191_xlm-roberta-base_CL_Sen.pt\""
   ]
  },
  {
   "cell_type": "markdown",
   "metadata": {
    "id": "K5NLJlWgT4Cb"
   },
   "source": [
    "####**CLR Models**"
   ]
  },
  {
   "cell_type": "code",
   "execution_count": null,
   "metadata": {
    "id": "RrA6-syhT4Cb"
   },
   "outputs": [],
   "source": [
    "! python /content/CL-XLMR_base-LCR-Rot-hop-plus-plus/main_plot.py --type-plot \"label\" --model-type \"mBERT\" --plot-name \"CLR-mLCR-Rot-hop-plus-plus\" --model-base \"/content/drive/MyDrive/data/models/2016_English_LCR_hops2_dropout0-4_acc0-8351063829787234_mBERT_CL_Rep.pt\""
   ]
  },
  {
   "cell_type": "code",
   "execution_count": null,
   "metadata": {
    "id": "uI9YHA2RT4Cb"
   },
   "outputs": [],
   "source": [
    "! python /content/CL-XLMR_base-LCR-Rot-hop-plus-plus/main_plot.py --type-plot \"label\" --model-type \"xlm-roberta-base\" --plot-name \"CLR-XLMRbase-LCR-Rot-hop-plus-plus\" --model-base \"/content/drive/MyDrive/data/models/2016_English_LCR_hops2_dropout0-4_acc0-848404255319149_xlm-roberta-base_CL_Rep.pt\""
   ]
  },
  {
   "cell_type": "markdown",
   "metadata": {
    "id": "D_RRSBOGWpvJ"
   },
   "source": [
    "###**XLMR-LCR-Rot-hop-XX++**\n",
    "\n",
    "**Note:** all model parameters require a parameter"
   ]
  },
  {
   "cell_type": "markdown",
   "metadata": {
    "id": "ruVOusoMWpvJ"
   },
   "source": [
    "####**Base Models**"
   ]
  },
  {
   "cell_type": "code",
   "execution_count": null,
   "metadata": {
    "id": "N4hZ9dT5WpvJ"
   },
   "outputs": [],
   "source": [
    "! python /content/CL-XLMR_base-LCR-Rot-hop-plus-plus/main_plot.py --type-plot \"label\" --model-type \"mBERT\" --plot-name \"mLCR-Rot-hop-XX-plus-plus\" --model-base \"/content/drive/MyDrive/data/models/2016_English_LCR_hops2_dropout0-6000000000000001_acc0-8218085106382979_mBERT.pt\" --model-dutch \"/content/drive/MyDrive/data/models/2016_Dutch_LCR_hops2_dropout0-5_acc0-8171206225680934_mBERT.pt\" --model-french \"/content/drive/MyDrive/data/models/2016_French_LCR_hops2_dropout0-6000000000000001_acc0-8248587570621468_mBERT.pt\" --model-spanish \"/content/drive/MyDrive/data/models/2016_Spanish_LCR_hops2_dropout0-5_acc0-845360824742268_mBERT.pt\""
   ]
  },
  {
   "cell_type": "code",
   "execution_count": null,
   "metadata": {
    "id": "yQRM-_SIWpvK"
   },
   "outputs": [],
   "source": [
    "! python /content/CL-XLMR_base-LCR-Rot-hop-plus-plus/main_plot.py --type-plot \"label\" --model-type \"xlm-roberta-base\" --plot-name \"XLMRbase-LCR-Rot-hop-XX-plus-plus\" --model-base \"/content/drive/MyDrive/data/models/2016_English_LCR_hops2_dropout0-5_acc0-8271276595744681_xlm-roberta-base.pt\" --model-dutch \"/content/drive/MyDrive/data/models/2016_Dutch_LCR_hops2_dropout0-6000000000000001_acc0-8443579766536965_xlm-roberta-base.pt\" --model-french \"/content/drive/MyDrive/data/models/2016_French_LCR_hops2_dropout0-4_acc0-844632768361582_xlm-roberta-base.pt\" --model-spanish \"/content/drive/MyDrive/data/models/2016_Spanish_LCR_hops2_dropout0-6000000000000001_acc0-8737113402061856_xlm-roberta-base.pt\""
   ]
  },
  {
   "cell_type": "code",
   "execution_count": null,
   "metadata": {
    "id": "hCFbGJ2jWpvK"
   },
   "outputs": [],
   "source": [
    "! python /content/CL-XLMR_base-LCR-Rot-hop-plus-plus/main_plot.py --type-plot \"label\" --model-type \"xlm-roberta-large\" --plot-name \"XLMR-LCR-Rot-hop-XX-plus-plus\" --model-base \"/content/drive/MyDrive/data/models/2016_English_LCR_hops2_dropout0-5_acc0-776595744680851_xlm-roberta-large.pt\" --model-dutch \"/content/drive/MyDrive/data/models/2016_Dutch_LCR_hops2_dropout0-4_acc0-8054474708171206_xlm-roberta-large.pt\" --model-french \"/content/drive/MyDrive/data/models/2016_French_LCR_hops2_dropout0-6000000000000001_acc0-8192090395480226_xlm-roberta-large.pt\" --model-spanish \"/content/drive/MyDrive/data/models/2016_Spanish_LCR_hops2_dropout0-6000000000000001_acc0-7371134020618557_xlm-roberta-large.pt\""
   ]
  },
  {
   "cell_type": "markdown",
   "metadata": {
    "id": "mYVjHT_VWpvK"
   },
   "source": [
    "####**CLS Models**"
   ]
  },
  {
   "cell_type": "code",
   "execution_count": null,
   "metadata": {
    "id": "UddcHYPmWpvK"
   },
   "outputs": [],
   "source": [
    "! python /content/CL-XLMR_base-LCR-Rot-hop-plus-plus/main_plot.py --type-plot \"label\" --model-type \"mBERT\" --plot-name \"CLS-mLCR-Rot-hop-XX-plus-plus\" --model-base \"/content/drive/MyDrive/data/models/2016_English_LCR_hops2_dropout0-6000000000000001_acc0-8377659574468085_mBERT_CL_Sen.pt\" --model-dutch \"/content/drive/MyDrive/data/models/2016_Dutch_LCR_hops2_dropout0-4_acc0-8171206225680934_mBERT_CL_Sen.pt\" --model-french \"/content/drive/MyDrive/data/models/2016_French_LCR_hops2_dropout0-6000000000000001_acc0-827683615819209_mBERT_CL_Sen.pt\" --model-spanish \"/content/drive/MyDrive/data/models/2016_Spanish_LCR_hops2_dropout0-5_acc0-8505154639175257_mBERT_CL_Sen.pt\""
   ]
  },
  {
   "cell_type": "code",
   "execution_count": null,
   "metadata": {
    "id": "xIsQyWL5WpvK"
   },
   "outputs": [],
   "source": [
    "! python /content/CL-XLMR_base-LCR-Rot-hop-plus-plus/main_plot.py --type-plot \"label\" --model-type \"xlm-roberta-base\" --plot-name \"CLS-XLMRbase-LCR-Rot-hop-XX-plus-plus\" --model-base \"/content/drive/MyDrive/data/models/2016_English_LCR_hops2_dropout0-6000000000000001_acc0-8537234042553191_xlm-roberta-base_CL_Sen.pt\" --model-dutch \"/content/drive/MyDrive/data/models/2016_Dutch_LCR_hops2_dropout0-6000000000000001_acc0-8482490272373541_xlm-roberta-base_CL_Sen.pt\" --model-french \"/content/drive/MyDrive/data/models/2016_French_LCR_hops2_dropout0-6000000000000001_acc0-8502824858757062_xlm-roberta-base_CL_Sen.pt\" --model-spanish \"/content/drive/MyDrive/data/models/2016_Spanish_LCR_hops2_dropout0-6000000000000001_acc0-8788659793814433_xlm-roberta-base_CL_Sen.pt\""
   ]
  },
  {
   "cell_type": "markdown",
   "metadata": {
    "id": "eoOuNDl3WpvP"
   },
   "source": [
    "####**CLR Models**"
   ]
  },
  {
   "cell_type": "code",
   "execution_count": null,
   "metadata": {
    "id": "3XQgZpm8WpvQ"
   },
   "outputs": [],
   "source": [
    "! python /content/CL-XLMR_base-LCR-Rot-hop-plus-plus/main_plot.py --type-plot \"label\" --model-type \"mBERT\" --plot-name \"CLR-mLCR-Rot-hop-XX-plus-plus\" --model-base \"/content/drive/MyDrive/data/models/2016_English_LCR_hops2_dropout0-4_acc0-8351063829787234_mBERT_CL_Rep.pt\" --model-dutch \"/content/drive/MyDrive/data/models/2016_Dutch_LCR_hops2_dropout0-6000000000000001_acc0-8171206225680934_mBERT_CL_Rep.pt\" --model-french \"/content/drive/MyDrive/data/models/2016_French_LCR_hops2_dropout0-6000000000000001_acc0-8163841807909604_mBERT_CL_Rep.pt\" --model-spanish \"/content/drive/MyDrive/data/models/2016_Spanish_LCR_hops2_dropout0-5_acc0-8479381443298969_mBERT_CL_Rep.pt\""
   ]
  },
  {
   "cell_type": "code",
   "execution_count": null,
   "metadata": {
    "id": "pj1w40MwWpvQ"
   },
   "outputs": [],
   "source": [
    "! python /content/CL-XLMR_base-LCR-Rot-hop-plus-plus/main_plot.py --type-plot \"label\" --model-type \"xlm-roberta-base\" --plot-name \"CLR-XLMRbase-LCR-Rot-hop-XX-plus-plus\" --model-base \"/content/drive/MyDrive/data/models/2016_English_LCR_hops2_dropout0-4_acc0-848404255319149_xlm-roberta-base_CL_Rep.pt\" --model-dutch \"/content/drive/MyDrive/data/models/2016_Dutch_LCR_hops2_dropout0-4_acc0-7976653696498055_xlm-roberta-base_CL_Rep.pt\" --model-french \"/content/drive/MyDrive/data/models/2016_French_LCR_hops2_dropout0-6000000000000001_acc0-8361581920903954_xlm-roberta-base_CL_Rep.pt\" --model-spanish \"/content/drive/MyDrive/data/models/2016_Spanish_LCR_hops2_dropout0-6000000000000001_acc0-8634020618556701_xlm-roberta-base_CL_Rep.pt\""
   ]
  },
  {
   "cell_type": "markdown",
   "metadata": {
    "id": "zlco8cH4XYq1"
   },
   "source": [
    "###**XLMR-MLCR-Rot-hop++**\n",
    "\n",
    "**Note:** only model-base parameter needs a model"
   ]
  },
  {
   "cell_type": "markdown",
   "metadata": {
    "id": "LGv2OqjhXYq9"
   },
   "source": [
    "####**Base Models**"
   ]
  },
  {
   "cell_type": "code",
   "execution_count": null,
   "metadata": {
    "id": "VFwLnL0OXYq9"
   },
   "outputs": [],
   "source": [
    "! python /content/CL-XLMR_base-LCR-Rot-hop-plus-plus/main_plot.py --type-plot \"label\" --model-type \"mBERT\" --plot-name \"MLCR-Rot-hop-plus-plus\" --model-base \"/content/drive/MyDrive/data/models/2016_Multilingual_LCR_hops2_dropout0-6000000000000001_acc0-7918486171761281_mBERT.pt\""
   ]
  },
  {
   "cell_type": "code",
   "execution_count": null,
   "metadata": {
    "id": "myZptJcNXYq9"
   },
   "outputs": [],
   "source": [
    "! python /content/CL-XLMR_base-LCR-Rot-hop-plus-plus/main_plot.py --type-plot \"label\" --model-type \"xlm-roberta-base\" --plot-name \"XLMRbase-MLCR-Rot-hop-plus-plus\" --model-base \"/content/drive/MyDrive/data/models/2016_Multilingual_LCR_hops2_dropout0-4_acc0-8486171761280932_xlm-roberta-base.pt\""
   ]
  },
  {
   "cell_type": "code",
   "execution_count": null,
   "metadata": {
    "id": "Z_3MlBaFXYq9"
   },
   "outputs": [],
   "source": [
    "! python /content/CL-XLMR_base-LCR-Rot-hop-plus-plus/main_plot.py --type-plot \"label\" --model-type \"xlm-roberta-large\" --plot-name \"XLMR-MLCR-Rot-hop-plus-plus\" --model-base \"/content/drive/MyDrive/data/models/2016_Multilingual_LCR_hops2_dropout0-6000000000000001_acc0-8398835516739447_xlm-roberta-large.pt\""
   ]
  },
  {
   "cell_type": "markdown",
   "metadata": {
    "id": "U-isWzkgXYq9"
   },
   "source": [
    "####**CLS Models**"
   ]
  },
  {
   "cell_type": "code",
   "execution_count": null,
   "metadata": {
    "id": "ZtK-OOcbXYq9"
   },
   "outputs": [],
   "source": [
    "! python /content/CL-XLMR_base-LCR-Rot-hop-plus-plus/main_plot.py --type-plot \"label\" --model-type \"mBERT\" --plot-name \"CLS-MLCR-Rot-hop-plus-plus\" --model-base \"/content/drive/MyDrive/data/models/2016_Multilingual_LCR_hops2_dropout0-6000000000000001_acc0-7983988355167394_mBERT_CL_Sen.pt\""
   ]
  },
  {
   "cell_type": "code",
   "execution_count": null,
   "metadata": {
    "id": "XfESMlzTXYq-"
   },
   "outputs": [],
   "source": [
    "! python /content/CL-XLMR_base-LCR-Rot-hop-plus-plus/main_plot.py --type-plot \"label\" --model-type \"xlm-roberta-base\" --plot-name \"CLS-XLMRbase-MLCR-Rot-hop-plus-plus\" --model-base \"/content/drive/MyDrive/data/models/2016_Multilingual_LCR_hops2_dropout0-6000000000000001_acc0-8522561863173217_xlm-roberta-base_CL_Sen.pt\""
   ]
  },
  {
   "cell_type": "markdown",
   "metadata": {
    "id": "oflUmdY3XYq-"
   },
   "source": [
    "####**CLR Models**"
   ]
  },
  {
   "cell_type": "code",
   "execution_count": null,
   "metadata": {
    "id": "D9GIAR0LXYq-"
   },
   "outputs": [],
   "source": [
    "! python /content/CL-XLMR_base-LCR-Rot-hop-plus-plus/main_plot.py --type-plot \"label\" --model-type \"mBERT\" --plot-name \"CLR-MLCR-Rot-hop-plus-plus\" --model-base \"/content/drive/MyDrive/data/models/2016_Multilingual_LCR_hops2_dropout0-6000000000000001_acc0-7809315866084425_mBERT_CL_Rep.pt\""
   ]
  },
  {
   "cell_type": "code",
   "execution_count": null,
   "metadata": {
    "id": "mMMVPSlVXYq-"
   },
   "outputs": [],
   "source": [
    "! python /content/CL-XLMR_base-LCR-Rot-hop-plus-plus/main_plot.py --type-plot \"label\" --model-type \"xlm-roberta-base\" --plot-name \"CLR-XLMRbase-MLCR-Rot-hop-plus-plus\" --model-base \"/content/drive/MyDrive/data/models/2016_Multilingual_LCR_hops2_dropout0-6000000000000001_acc0-8427947598253275_xlm-roberta-base_CL_Rep.pt\""
   ]
  },
  {
   "cell_type": "markdown",
   "metadata": {
    "id": "5hdkga3SYnAA"
   },
   "source": [
    "###**XLMR-LCR-Rot-hop-ACS_XX++**\n",
    "\n",
    "**Note:** the model-base parameter should be empty. All other model parameters need a model."
   ]
  },
  {
   "cell_type": "markdown",
   "metadata": {
    "id": "5EGMqeleYnAG"
   },
   "source": [
    "####**Base Models**"
   ]
  },
  {
   "cell_type": "code",
   "execution_count": null,
   "metadata": {
    "id": "BxZn1E26YnAG"
   },
   "outputs": [],
   "source": [
    "! python /content/CL-XLMR_base-LCR-Rot-hop-plus-plus/main_plot.py --type-plot \"label\" --model-type \"mBERT\" --plot-name \"mLCR-Rot-hop-ACS_XX-plus-plus\" --model-dutch \"/content/drive/MyDrive/data/models/2016_XACSforDutch_LCR_hops2_dropout0-6000000000000001_acc0-8990578734858681_mBERT.pt\" --model-french \"/content/drive/MyDrive/data/models/2016_XACSforFrench_LCR_hops2_dropout0-6000000000000001_acc0-9077868852459017_mBERT.pt\" --model-spanish \"/content/drive/MyDrive/data/models/2016_XACSforSpanish_LCR_hops2_dropout0-6000000000000001_acc0-9136054421768708_mBERT.pt\""
   ]
  },
  {
   "cell_type": "code",
   "execution_count": null,
   "metadata": {
    "id": "ggMSS9BqYnAG"
   },
   "outputs": [],
   "source": [
    "! python /content/CL-XLMR_base-LCR-Rot-hop-plus-plus/main_plot.py --type-plot \"label\" --model-type \"xlm-roberta-base\" --plot-name \"XLMRbase-LCR-Rot-hop-ACS_XX-plus-plus\" --model-dutch \"/content/drive/MyDrive/data/models/2016_XACSforDutch_LCR_hops2_dropout0-6000000000000001_acc0-8835800807537012_xlm-roberta-base.pt\" --model-french \"/content/drive/MyDrive/data/models/2016_XACSforFrench_LCR_hops2_dropout0-6000000000000001_acc0-8913934426229508_xlm-roberta-base.pt\" --model-spanish \"/content/drive/MyDrive/data/models/2016_XACSforSpanish_LCR_hops2_dropout0-4_acc0-8715159755268524_xlm-roberta-base.pt\""
   ]
  },
  {
   "cell_type": "code",
   "execution_count": null,
   "metadata": {
    "id": "8HS0jGlDYnAG"
   },
   "outputs": [],
   "source": [
    "! python /content/CL-XLMR_base-LCR-Rot-hop-plus-plus/main_plot.py --type-plot \"label\" --model-type \"xlm-roberta-large\" --plot-name \"XLMR-LCR-Rot-hop-ACS_XX-plus-plus\" --model-dutch \"/content/drive/MyDrive/data/models/2016_XACSforDutch_LCR_hops2_dropout0-6000000000000001_acc0-8539703903095559_xlm-roberta-large.pt\" --model-french \"/content/drive/MyDrive/data/models/2016_XACSforFrench_LCR_hops2_dropout0-6000000000000001_acc0-8415300546448088_xlm-roberta-large.pt\" --model-spanish \"/content/drive/MyDrive/data/models/2016_XACSforSpanish_LCR_hops2_dropout0-6000000000000001_acc0-8429639700883752_xlm-roberta-large.pt\""
   ]
  },
  {
   "cell_type": "markdown",
   "metadata": {
    "id": "ovRGe4WsYnAG"
   },
   "source": [
    "####**CLS Models**"
   ]
  },
  {
   "cell_type": "code",
   "execution_count": null,
   "metadata": {
    "id": "dpbVtVoyYnAG"
   },
   "outputs": [],
   "source": [
    "! python /content/CL-XLMR_base-LCR-Rot-hop-plus-plus/main_plot.py --type-plot \"label\" --model-type \"mBERT\" --plot-name \"CLS-mLCR-Rot-hop-ACS_XX-plus-plus\" --model-dutch \"/content/drive/MyDrive/data/models/2016_XACSforDutch_LCR_hops2_dropout0-6000000000000001_acc0-923956931359354_mBERT_CL_Sen.pt\" --model-french \"/content/drive/MyDrive/data/models/2016_XACSforFrench_LCR_hops2_dropout0-6000000000000001_acc0-9255464480874317_mBERT_CL_Sen.pt\" --model-spanish \"/content/drive/MyDrive/data/models/2016_XACSforSpanish_LCR_hops2_dropout0-6000000000000001_acc0-9183673469387755_mBERT_CL_Sen.pt\""
   ]
  },
  {
   "cell_type": "code",
   "execution_count": null,
   "metadata": {
    "id": "ewN5PDqvYnAG"
   },
   "outputs": [],
   "source": [
    "! python /content/CL-XLMR_base-LCR-Rot-hop-plus-plus/main_plot.py --type-plot \"label\" --model-type \"xlm-roberta-base\" --plot-name \"CLS-XLMRbase-LCR-Rot-hop-ACS_XX-plus-plus\" --model-dutch \"/content/drive/MyDrive/data/models/2016_XACSforDutch_LCR_hops2_dropout0-6000000000000001_acc0-9118438761776582_xlm-roberta-base_CL_Sen.pt\" --model-french \"/content/drive/MyDrive/data/models/2016_XACSforFrench_LCR_hops2_dropout0-6000000000000001_acc0-894808743169399_xlm-roberta-base_CL_Sen.pt\" --model-spanish \"/content/drive/MyDrive/data/models/2016_XACSforSpanish_LCR_hops2_dropout0-6000000000000001_acc0-8823929299796057_xlm-roberta-base_CL_Sen.pt\""
   ]
  },
  {
   "cell_type": "markdown",
   "metadata": {
    "id": "0BUeZNvMYnAG"
   },
   "source": [
    "####**CLR Models**"
   ]
  },
  {
   "cell_type": "code",
   "execution_count": null,
   "metadata": {
    "id": "Q4RdlNuPYnAG"
   },
   "outputs": [],
   "source": [
    "! python /content/CL-XLMR_base-LCR-Rot-hop-plus-plus/main_plot.py --type-plot \"label\" --model-type \"mBERT\" --plot-name \"CLR-mLCR-Rot-hop-ACS_XX-plus-plus\" --model-dutch \"/content/drive/MyDrive/data/models/2016_XACSforDutch_LCR_hops2_dropout0-6000000000000001_acc0-8822341857335128_mBERT_CL_Rep.pt\" --model-french \"/content/drive/MyDrive/data/models/2016_XACSforFrench_LCR_hops2_dropout0-6000000000000001_acc0-9023224043715847_mBERT_CL_Rep.pt\" --model-spanish \"/content/drive/MyDrive/data/models/2016_XACSforSpanish_LCR_hops2_dropout0-6000000000000001_acc0-8925170068027211_mBERT_CL_Rep.pt\""
   ]
  },
  {
   "cell_type": "code",
   "execution_count": null,
   "metadata": {
    "id": "JF19DB5hYnAG"
   },
   "outputs": [],
   "source": [
    "! python /content/CL-XLMR_base-LCR-Rot-hop-plus-plus/main_plot.py --type-plot \"label\" --model-type \"xlm-roberta-base\" --plot-name \"CLR-XLMRbase-LCR-Rot-hop-ACS_XX-plus-plus\" --model-dutch \"/content/drive/MyDrive/data/models/2016_XACSforDutch_LCR_hops2_dropout0-6000000000000001_acc0-8559892328398385_xlm-roberta-base_CL_Rep.pt\" --model-french \"/content/drive/MyDrive/data/models/2016_XACSforFrench_LCR_hops2_dropout0-6000000000000001_acc0-8784153005464481_xlm-roberta-base_CL_Rep.pt\" --model-spanish \"/content/drive/MyDrive/data/models/2016_XACSforSpanish_LCR_hops2_dropout0-6000000000000001_acc0-8484024473147519_xlm-roberta-base_CL_Rep.pt\""
   ]
  },
  {
   "cell_type": "markdown",
   "metadata": {
    "id": "XdXXfZyY2u8s"
   },
   "source": [
    "##**t-SNE Plotting Predictions**\n",
    "\n",
    "**Note:** Each section contains all base models, and all associated contrastive learning models."
   ]
  },
  {
   "cell_type": "markdown",
   "metadata": {
    "id": "TQFAE8tb2u8y"
   },
   "source": [
    "###**XLMR-LCR-Rot-hop++**\n",
    "\n",
    "**Note:** only model-base parameter needs a model"
   ]
  },
  {
   "cell_type": "markdown",
   "metadata": {
    "id": "THGTYC2N2u8y"
   },
   "source": [
    "####**Base Models**"
   ]
  },
  {
   "cell_type": "code",
   "execution_count": null,
   "metadata": {
    "id": "KIc7fnJf2u8y"
   },
   "outputs": [],
   "source": [
    "! python /content/CL-XLMR_base-LCR-Rot-hop-plus-plus/main_plot.py --type-plot \"pred\" --model-type \"mBERT\" --plot-name \"mLCR-Rot-hop-plus-plus\" --model-base \"/content/drive/MyDrive/data/models/2016_English_LCR_hops2_dropout0-6000000000000001_acc0-8218085106382979_mBERT.pt\""
   ]
  },
  {
   "cell_type": "code",
   "execution_count": null,
   "metadata": {
    "id": "qO5gamLN2u8y"
   },
   "outputs": [],
   "source": [
    "! python /content/CL-XLMR_base-LCR-Rot-hop-plus-plus/main_plot.py --type-plot \"pred\" --model-type \"xlm-roberta-base\" --plot-name \"XLMRbase-LCR-Rot-hop-plus-plus\" --model-base \"/content/drive/MyDrive/data/models/2016_English_LCR_hops2_dropout0-5_acc0-8271276595744681_xlm-roberta-base.pt\""
   ]
  },
  {
   "cell_type": "code",
   "execution_count": null,
   "metadata": {
    "id": "rOMkuXdU2u8y"
   },
   "outputs": [],
   "source": [
    "! python /content/CL-XLMR_base-LCR-Rot-hop-plus-plus/main_plot.py --type-plot \"pred\" --model-type \"xlm-roberta-large\" --plot-name \"XLMR-LCR-Rot-hop-plus-plus\" --model-base \"/content/drive/MyDrive/data/models/2016_English_LCR_hops2_dropout0-5_acc0-776595744680851_xlm-roberta-large.pt\""
   ]
  },
  {
   "cell_type": "markdown",
   "metadata": {
    "id": "aH229wMu2u8y"
   },
   "source": [
    "####**CLS Models**"
   ]
  },
  {
   "cell_type": "code",
   "execution_count": null,
   "metadata": {
    "id": "b_26td9T2u8y"
   },
   "outputs": [],
   "source": [
    "! python /content/CL-XLMR_base-LCR-Rot-hop-plus-plus/main_plot.py --type-plot \"pred\" --model-type \"mBERT\" --plot-name \"CLS-mLCR-Rot-hop-plus-plus\" --model-base \"/content/drive/MyDrive/data/models/2016_English_LCR_hops2_dropout0-6000000000000001_acc0-8377659574468085_mBERT_CL_Sen.pt\""
   ]
  },
  {
   "cell_type": "code",
   "execution_count": null,
   "metadata": {
    "id": "FIOO_n2c2u8y"
   },
   "outputs": [],
   "source": [
    "! python /content/CL-XLMR_base-LCR-Rot-hop-plus-plus/main_plot.py --type-plot \"pred\" --model-type \"xlm-roberta-base\" --plot-name \"CLS-XLMRbase-LCR-Rot-hop-plus-plus\" --model-base \"/content/drive/MyDrive/data/models/2016_English_LCR_hops2_dropout0-6000000000000001_acc0-8537234042553191_xlm-roberta-base_CL_Sen.pt\""
   ]
  },
  {
   "cell_type": "markdown",
   "metadata": {
    "id": "UpoeYEab2u8y"
   },
   "source": [
    "####**CLR Models**"
   ]
  },
  {
   "cell_type": "code",
   "execution_count": null,
   "metadata": {
    "id": "MsMN6PuE2u8z"
   },
   "outputs": [],
   "source": [
    "! python /content/CL-XLMR_base-LCR-Rot-hop-plus-plus/main_plot.py --type-plot \"pred\" --model-type \"mBERT\" --plot-name \"CLR-mLCR-Rot-hop-plus-plus\" --model-base \"/content/drive/MyDrive/data/models/2016_English_LCR_hops2_dropout0-4_acc0-8351063829787234_mBERT_CL_Rep.pt\""
   ]
  },
  {
   "cell_type": "code",
   "execution_count": null,
   "metadata": {
    "id": "MIVFvbR32u8z"
   },
   "outputs": [],
   "source": [
    "! python /content/CL-XLMR_base-LCR-Rot-hop-plus-plus/main_plot.py --type-plot \"pred\" --model-type \"xlm-roberta-base\" --plot-name \"CLR-XLMRbase-LCR-Rot-hop-plus-plus\" --model-base \"/content/drive/MyDrive/data/models/2016_English_LCR_hops2_dropout0-4_acc0-848404255319149_xlm-roberta-base_CL_Rep.pt\""
   ]
  },
  {
   "cell_type": "markdown",
   "metadata": {
    "id": "3htcfVHV2u8z"
   },
   "source": [
    "###**XLMR-LCR-Rot-hop-XX++**\n",
    "\n",
    "**Note:** all model parameters require a parameter"
   ]
  },
  {
   "cell_type": "markdown",
   "metadata": {
    "id": "lbqVeJvv2u8z"
   },
   "source": [
    "####**Base Models**"
   ]
  },
  {
   "cell_type": "code",
   "execution_count": null,
   "metadata": {
    "id": "gLe6PqVx2u8z"
   },
   "outputs": [],
   "source": [
    "! python /content/CL-XLMR_base-LCR-Rot-hop-plus-plus/main_plot.py --type-plot \"pred\" --model-type \"mBERT\" --plot-name \"mLCR-Rot-hop-XX-plus-plus\" --model-base \"/content/drive/MyDrive/data/models/2016_English_LCR_hops2_dropout0-6000000000000001_acc0-8218085106382979_mBERT.pt\" --model-dutch \"/content/drive/MyDrive/data/models/2016_Dutch_LCR_hops2_dropout0-5_acc0-8171206225680934_mBERT.pt\" --model-french \"/content/drive/MyDrive/data/models/2016_French_LCR_hops2_dropout0-6000000000000001_acc0-8248587570621468_mBERT.pt\" --model-spanish \"/content/drive/MyDrive/data/models/2016_Spanish_LCR_hops2_dropout0-5_acc0-845360824742268_mBERT.pt\""
   ]
  },
  {
   "cell_type": "code",
   "execution_count": null,
   "metadata": {
    "id": "1SEqDE8i2u8z"
   },
   "outputs": [],
   "source": [
    "! python /content/CL-XLMR_base-LCR-Rot-hop-plus-plus/main_plot.py --type-plot \"pred\" --model-type \"xlm-roberta-base\" --plot-name \"XLMRbase-LCR-Rot-hop-XX-plus-plus\" --model-base \"/content/drive/MyDrive/data/models/2016_English_LCR_hops2_dropout0-5_acc0-8271276595744681_xlm-roberta-base.pt\" --model-dutch \"/content/drive/MyDrive/data/models/2016_Dutch_LCR_hops2_dropout0-6000000000000001_acc0-8443579766536965_xlm-roberta-base.pt\" --model-french \"/content/drive/MyDrive/data/models/2016_French_LCR_hops2_dropout0-4_acc0-844632768361582_xlm-roberta-base.pt\" --model-spanish \"/content/drive/MyDrive/data/models/2016_Spanish_LCR_hops2_dropout0-6000000000000001_acc0-8737113402061856_xlm-roberta-base.pt\""
   ]
  },
  {
   "cell_type": "code",
   "execution_count": null,
   "metadata": {
    "id": "WGGKF_u-2u8z"
   },
   "outputs": [],
   "source": [
    "! python /content/CL-XLMR_base-LCR-Rot-hop-plus-plus/main_plot.py --type-plot \"pred\" --model-type \"xlm-roberta-large\" --plot-name \"XLMR-LCR-Rot-hop-XX-plus-plus\" --model-base \"/content/drive/MyDrive/data/models/2016_English_LCR_hops2_dropout0-5_acc0-776595744680851_xlm-roberta-large.pt\" --model-dutch \"/content/drive/MyDrive/data/models/2016_Dutch_LCR_hops2_dropout0-4_acc0-8054474708171206_xlm-roberta-large.pt\" --model-french \"/content/drive/MyDrive/data/models/2016_French_LCR_hops2_dropout0-6000000000000001_acc0-8192090395480226_xlm-roberta-large.pt\" --model-spanish \"/content/drive/MyDrive/data/models/2016_Spanish_LCR_hops2_dropout0-6000000000000001_acc0-7371134020618557_xlm-roberta-large.pt\""
   ]
  },
  {
   "cell_type": "markdown",
   "metadata": {
    "id": "tSeGe8BJ2u8z"
   },
   "source": [
    "####**CLS Models**"
   ]
  },
  {
   "cell_type": "code",
   "execution_count": null,
   "metadata": {
    "id": "FVkYwMFb2u8z"
   },
   "outputs": [],
   "source": [
    "! python /content/CL-XLMR_base-LCR-Rot-hop-plus-plus/main_plot.py --type-plot \"pred\" --model-type \"mBERT\" --plot-name \"CLS-mLCR-Rot-hop-XX-plus-plus\" --model-base \"/content/drive/MyDrive/data/models/2016_English_LCR_hops2_dropout0-6000000000000001_acc0-8377659574468085_mBERT_CL_Sen.pt\" --model-dutch \"/content/drive/MyDrive/data/models/2016_Dutch_LCR_hops2_dropout0-4_acc0-8171206225680934_mBERT_CL_Sen.pt\" --model-french \"/content/drive/MyDrive/data/models/2016_French_LCR_hops2_dropout0-6000000000000001_acc0-827683615819209_mBERT_CL_Sen.pt\" --model-spanish \"/content/drive/MyDrive/data/models/2016_Spanish_LCR_hops2_dropout0-5_acc0-8505154639175257_mBERT_CL_Sen.pt\""
   ]
  },
  {
   "cell_type": "code",
   "execution_count": null,
   "metadata": {
    "id": "JLZevuzy2u8z"
   },
   "outputs": [],
   "source": [
    "! python /content/CL-XLMR_base-LCR-Rot-hop-plus-plus/main_plot.py --type-plot \"pred\" --model-type \"xlm-roberta-base\" --plot-name \"CLS-XLMRbase-LCR-Rot-hop-XX-plus-plus\" --model-base \"/content/drive/MyDrive/data/models/2016_English_LCR_hops2_dropout0-6000000000000001_acc0-8537234042553191_xlm-roberta-base_CL_Sen.pt\" --model-dutch \"/content/drive/MyDrive/data/models/2016_Dutch_LCR_hops2_dropout0-6000000000000001_acc0-8482490272373541_xlm-roberta-base_CL_Sen.pt\" --model-french \"/content/drive/MyDrive/data/models/2016_French_LCR_hops2_dropout0-6000000000000001_acc0-8502824858757062_xlm-roberta-base_CL_Sen.pt\" --model-spanish \"/content/drive/MyDrive/data/models/2016_Spanish_LCR_hops2_dropout0-6000000000000001_acc0-8788659793814433_xlm-roberta-base_CL_Sen.pt\""
   ]
  },
  {
   "cell_type": "markdown",
   "metadata": {
    "id": "dxn4Ocqc2u8z"
   },
   "source": [
    "####**CLR Models**"
   ]
  },
  {
   "cell_type": "code",
   "execution_count": null,
   "metadata": {
    "id": "immfAetd2u8z"
   },
   "outputs": [],
   "source": [
    "! python /content/CL-XLMR_base-LCR-Rot-hop-plus-plus/main_plot.py --type-plot \"pred\" --model-type \"mBERT\" --plot-name \"CLR-mLCR-Rot-hop-XX-plus-plus\" --model-base \"/content/drive/MyDrive/data/models/2016_English_LCR_hops2_dropout0-4_acc0-8351063829787234_mBERT_CL_Rep.pt\" --model-dutch \"/content/drive/MyDrive/data/models/2016_Dutch_LCR_hops2_dropout0-6000000000000001_acc0-8171206225680934_mBERT_CL_Rep.pt\" --model-french \"/content/drive/MyDrive/data/models/2016_French_LCR_hops2_dropout0-6000000000000001_acc0-8163841807909604_mBERT_CL_Rep.pt\" --model-spanish \"/content/drive/MyDrive/data/models/2016_Spanish_LCR_hops2_dropout0-5_acc0-8479381443298969_mBERT_CL_Rep.pt\""
   ]
  },
  {
   "cell_type": "code",
   "execution_count": null,
   "metadata": {
    "id": "nBlGVTGX2u8z"
   },
   "outputs": [],
   "source": [
    "! python /content/CL-XLMR_base-LCR-Rot-hop-plus-plus/main_plot.py --type-plot \"pred\" --model-type \"xlm-roberta-base\" --plot-name \"CLR-XLMRbase-LCR-Rot-hop-XX-plus-plus\" --model-base \"/content/drive/MyDrive/data/models/2016_English_LCR_hops2_dropout0-4_acc0-848404255319149_xlm-roberta-base_CL_Rep.pt\" --model-dutch \"/content/drive/MyDrive/data/models/2016_Dutch_LCR_hops2_dropout0-4_acc0-7976653696498055_xlm-roberta-base_CL_Rep.pt\" --model-french \"/content/drive/MyDrive/data/models/2016_French_LCR_hops2_dropout0-6000000000000001_acc0-8361581920903954_xlm-roberta-base_CL_Rep.pt\" --model-spanish \"/content/drive/MyDrive/data/models/2016_Spanish_LCR_hops2_dropout0-6000000000000001_acc0-8634020618556701_xlm-roberta-base_CL_Rep.pt\""
   ]
  },
  {
   "cell_type": "markdown",
   "metadata": {
    "id": "_nj22YG32u8z"
   },
   "source": [
    "###**XLMR-MLCR-Rot-hop++**\n",
    "\n",
    "**Note:** only model-base parameter needs a model"
   ]
  },
  {
   "cell_type": "markdown",
   "metadata": {
    "id": "ah9Mlt8Q2u80"
   },
   "source": [
    "####**Base Models**"
   ]
  },
  {
   "cell_type": "code",
   "execution_count": null,
   "metadata": {
    "id": "tebGjsEK2u80"
   },
   "outputs": [],
   "source": [
    "! python /content/CL-XLMR_base-LCR-Rot-hop-plus-plus/main_plot.py --type-plot \"pred\" --model-type \"mBERT\" --plot-name \"MLCR-Rot-hop-plus-plus\" --model-base \"/content/drive/MyDrive/data/models/2016_Multilingual_LCR_hops2_dropout0-6000000000000001_acc0-7918486171761281_mBERT.pt\""
   ]
  },
  {
   "cell_type": "code",
   "execution_count": null,
   "metadata": {
    "id": "GVqCJxA82u80"
   },
   "outputs": [],
   "source": [
    "! python /content/CL-XLMR_base-LCR-Rot-hop-plus-plus/main_plot.py --type-plot \"pred\" --model-type \"xlm-roberta-base\" --plot-name \"XLMRbase-MLCR-Rot-hop-plus-plus\" --model-base \"/content/drive/MyDrive/data/models/2016_Multilingual_LCR_hops2_dropout0-4_acc0-8486171761280932_xlm-roberta-base.pt\""
   ]
  },
  {
   "cell_type": "code",
   "execution_count": null,
   "metadata": {
    "id": "9YMpAyk92u80"
   },
   "outputs": [],
   "source": [
    "! python /content/CL-XLMR_base-LCR-Rot-hop-plus-plus/main_plot.py --type-plot \"pred\" --model-type \"xlm-roberta-large\" --plot-name \"XLMR-MLCR-Rot-hop-plus-plus\" --model-base \"/content/drive/MyDrive/data/models/2016_Multilingual_LCR_hops2_dropout0-6000000000000001_acc0-8398835516739447_xlm-roberta-large.pt\""
   ]
  },
  {
   "cell_type": "markdown",
   "metadata": {
    "id": "SLQHWAZU2u80"
   },
   "source": [
    "####**CLS Models**"
   ]
  },
  {
   "cell_type": "code",
   "execution_count": null,
   "metadata": {
    "id": "FF5_8WMz2u80"
   },
   "outputs": [],
   "source": [
    "! python /content/CL-XLMR_base-LCR-Rot-hop-plus-plus/main_plot.py --type-plot \"pred\" --model-type \"mBERT\" --plot-name \"CLS-MLCR-Rot-hop-plus-plus\" --model-base \"/content/drive/MyDrive/data/models/2016_Multilingual_LCR_hops2_dropout0-6000000000000001_acc0-7983988355167394_mBERT_CL_Sen.pt\""
   ]
  },
  {
   "cell_type": "code",
   "execution_count": null,
   "metadata": {
    "id": "1mQiMWNj2u80"
   },
   "outputs": [],
   "source": [
    "! python /content/CL-XLMR_base-LCR-Rot-hop-plus-plus/main_plot.py --type-plot \"pred\" --model-type \"xlm-roberta-base\" --plot-name \"CLS-XLMRbase-MLCR-Rot-hop-plus-plus\" --model-base \"/content/drive/MyDrive/data/models/2016_Multilingual_LCR_hops2_dropout0-6000000000000001_acc0-8522561863173217_xlm-roberta-base_CL_Sen.pt\""
   ]
  },
  {
   "cell_type": "markdown",
   "metadata": {
    "id": "1sHLks7-2u80"
   },
   "source": [
    "####**CLR Models**"
   ]
  },
  {
   "cell_type": "code",
   "execution_count": null,
   "metadata": {
    "id": "VFfAwpEL2u80"
   },
   "outputs": [],
   "source": [
    "! python /content/CL-XLMR_base-LCR-Rot-hop-plus-plus/main_plot.py --type-plot \"pred\" --model-type \"mBERT\" --plot-name \"CLR-MLCR-Rot-hop-plus-plus\" --model-base \"/content/drive/MyDrive/data/models/2016_Multilingual_LCR_hops2_dropout0-6000000000000001_acc0-7809315866084425_mBERT_CL_Rep.pt\""
   ]
  },
  {
   "cell_type": "code",
   "execution_count": null,
   "metadata": {
    "id": "_P12nV_W2u80"
   },
   "outputs": [],
   "source": [
    "! python /content/CL-XLMR_base-LCR-Rot-hop-plus-plus/main_plot.py --type-plot \"pred\" --model-type \"xlm-roberta-base\" --plot-name \"CLR-XLMRbase-MLCR-Rot-hop-plus-plus\" --model-base \"/content/drive/MyDrive/data/models/2016_Multilingual_LCR_hops2_dropout0-6000000000000001_acc0-8427947598253275_xlm-roberta-base_CL_Rep.pt\""
   ]
  },
  {
   "cell_type": "markdown",
   "metadata": {
    "id": "iA690bDQ2u80"
   },
   "source": [
    "###**XLMR-LCR-Rot-hop-ACS_XX++**\n",
    "\n",
    "**Note:** the model-base parameter should be empty. All other model parameters need a model."
   ]
  },
  {
   "cell_type": "markdown",
   "metadata": {
    "id": "6kuYDAWD2u80"
   },
   "source": [
    "####**Base Models**"
   ]
  },
  {
   "cell_type": "code",
   "execution_count": null,
   "metadata": {
    "id": "GQ-BV7Ff2u80"
   },
   "outputs": [],
   "source": [
    "! python /content/CL-XLMR_base-LCR-Rot-hop-plus-plus/main_plot.py --type-plot \"pred\" --model-type \"mBERT\" --plot-name \"mLCR-Rot-hop-ACS_XX-plus-plus\" --model-dutch \"/content/drive/MyDrive/data/models/2016_XACSforDutch_LCR_hops2_dropout0-6000000000000001_acc0-8990578734858681_mBERT.pt\" --model-french \"/content/drive/MyDrive/data/models/2016_XACSforFrench_LCR_hops2_dropout0-6000000000000001_acc0-9077868852459017_mBERT.pt\" --model-spanish \"/content/drive/MyDrive/data/models/2016_XACSforSpanish_LCR_hops2_dropout0-6000000000000001_acc0-9136054421768708_mBERT.pt\""
   ]
  },
  {
   "cell_type": "code",
   "execution_count": null,
   "metadata": {
    "id": "2eCcQnh42u81"
   },
   "outputs": [],
   "source": [
    "! python /content/CL-XLMR_base-LCR-Rot-hop-plus-plus/main_plot.py --type-plot \"pred\" --model-type \"xlm-roberta-base\" --plot-name \"XLMRbase-LCR-Rot-hop-ACS_XX-plus-plus\" --model-dutch \"/content/drive/MyDrive/data/models/2016_XACSforDutch_LCR_hops2_dropout0-6000000000000001_acc0-8835800807537012_xlm-roberta-base.pt\" --model-french \"/content/drive/MyDrive/data/models/2016_XACSforFrench_LCR_hops2_dropout0-6000000000000001_acc0-8913934426229508_xlm-roberta-base.pt\" --model-spanish \"/content/drive/MyDrive/data/models/2016_XACSforSpanish_LCR_hops2_dropout0-4_acc0-8715159755268524_xlm-roberta-base.pt\""
   ]
  },
  {
   "cell_type": "code",
   "execution_count": null,
   "metadata": {
    "id": "xOiepQmt2u81"
   },
   "outputs": [],
   "source": [
    "! python /content/CL-XLMR_base-LCR-Rot-hop-plus-plus/main_plot.py --type-plot \"pred\" --model-type \"xlm-roberta-large\" --plot-name \"XLMR-LCR-Rot-hop-ACS_XX-plus-plus\" --model-dutch \"/content/drive/MyDrive/data/models/2016_XACSforDutch_LCR_hops2_dropout0-6000000000000001_acc0-8539703903095559_xlm-roberta-large.pt\" --model-french \"/content/drive/MyDrive/data/models/2016_XACSforFrench_LCR_hops2_dropout0-6000000000000001_acc0-8415300546448088_xlm-roberta-large.pt\" --model-spanish \"/content/drive/MyDrive/data/models/2016_XACSforSpanish_LCR_hops2_dropout0-6000000000000001_acc0-8429639700883752_xlm-roberta-large.pt\""
   ]
  },
  {
   "cell_type": "markdown",
   "metadata": {
    "id": "sJzR47ek2u81"
   },
   "source": [
    "####**CLS Models**"
   ]
  },
  {
   "cell_type": "code",
   "execution_count": null,
   "metadata": {
    "id": "sRnwS8uF2u81"
   },
   "outputs": [],
   "source": [
    "! python /content/CL-XLMR_base-LCR-Rot-hop-plus-plus/main_plot.py --type-plot \"pred\" --model-type \"mBERT\" --plot-name \"CLS-mLCR-Rot-hop-ACS_XX-plus-plus\" --model-dutch \"/content/drive/MyDrive/data/models/2016_XACSforDutch_LCR_hops2_dropout0-6000000000000001_acc0-923956931359354_mBERT_CL_Sen.pt\" --model-french \"/content/drive/MyDrive/data/models/2016_XACSforFrench_LCR_hops2_dropout0-6000000000000001_acc0-9255464480874317_mBERT_CL_Sen.pt\" --model-spanish \"/content/drive/MyDrive/data/models/2016_XACSforSpanish_LCR_hops2_dropout0-6000000000000001_acc0-9183673469387755_mBERT_CL_Sen.pt\""
   ]
  },
  {
   "cell_type": "code",
   "execution_count": null,
   "metadata": {
    "id": "0gRxa6P12u81"
   },
   "outputs": [],
   "source": [
    "! python /content/CL-XLMR_base-LCR-Rot-hop-plus-plus/main_plot.py --type-plot \"pred\" --model-type \"xlm-roberta-base\" --plot-name \"CLS-XLMRbase-LCR-Rot-hop-ACS_XX-plus-plus\" --model-dutch \"/content/drive/MyDrive/data/models/2016_XACSforDutch_LCR_hops2_dropout0-6000000000000001_acc0-9118438761776582_xlm-roberta-base_CL_Sen.pt\" --model-french \"/content/drive/MyDrive/data/models/2016_XACSforFrench_LCR_hops2_dropout0-6000000000000001_acc0-894808743169399_xlm-roberta-base_CL_Sen.pt\" --model-spanish \"/content/drive/MyDrive/data/models/2016_XACSforSpanish_LCR_hops2_dropout0-6000000000000001_acc0-8823929299796057_xlm-roberta-base_CL_Sen.pt\""
   ]
  },
  {
   "cell_type": "markdown",
   "metadata": {
    "id": "USrtg97a2u81"
   },
   "source": [
    "####**CLR Models**"
   ]
  },
  {
   "cell_type": "code",
   "execution_count": null,
   "metadata": {
    "id": "fwmQ8OlN2u81"
   },
   "outputs": [],
   "source": [
    "! python /content/CL-XLMR_base-LCR-Rot-hop-plus-plus/main_plot.py --type-plot \"pred\" --model-type \"mBERT\" --plot-name \"CLR-mLCR-Rot-hop-ACS_XX-plus-plus\" --model-dutch \"/content/drive/MyDrive/data/models/2016_XACSforDutch_LCR_hops2_dropout0-6000000000000001_acc0-8822341857335128_mBERT_CL_Rep.pt\" --model-french \"/content/drive/MyDrive/data/models/2016_XACSforFrench_LCR_hops2_dropout0-6000000000000001_acc0-9023224043715847_mBERT_CL_Rep.pt\" --model-spanish \"/content/drive/MyDrive/data/models/2016_XACSforSpanish_LCR_hops2_dropout0-6000000000000001_acc0-8925170068027211_mBERT_CL_Rep.pt\""
   ]
  },
  {
   "cell_type": "code",
   "execution_count": null,
   "metadata": {
    "id": "7I78t-2O2u81"
   },
   "outputs": [],
   "source": [
    "! python /content/CL-XLMR_base-LCR-Rot-hop-plus-plus/main_plot.py --type-plot \"pred\" --model-type \"xlm-roberta-base\" --plot-name \"CLR-XLMRbase-LCR-Rot-hop-ACS_XX-plus-plus\" --model-dutch \"/content/drive/MyDrive/data/models/2016_XACSforDutch_LCR_hops2_dropout0-6000000000000001_acc0-8559892328398385_xlm-roberta-base_CL_Rep.pt\" --model-french \"/content/drive/MyDrive/data/models/2016_XACSforFrench_LCR_hops2_dropout0-6000000000000001_acc0-8784153005464481_xlm-roberta-base_CL_Rep.pt\" --model-spanish \"/content/drive/MyDrive/data/models/2016_XACSforSpanish_LCR_hops2_dropout0-6000000000000001_acc0-8484024473147519_xlm-roberta-base_CL_Rep.pt\""
   ]
  }
 ],
 "metadata": {
  "accelerator": "GPU",
  "colab": {
   "authorship_tag": "ABX9TyOpVhb8+OldFFnVBIqKNYcZ",
   "collapsed_sections": [
    "yo_G8FLSQWym",
    "NR7D_DRtSB8Y",
    "D_RRSBOGWpvJ",
    "XdXXfZyY2u8s"
   ],
   "gpuType": "T4",
   "private_outputs": true,
   "provenance": []
  },
  "kernelspec": {
   "display_name": "Python 3",
   "name": "python3"
  },
  "language_info": {
   "name": "python"
  }
 },
 "nbformat": 4,
 "nbformat_minor": 0
}
