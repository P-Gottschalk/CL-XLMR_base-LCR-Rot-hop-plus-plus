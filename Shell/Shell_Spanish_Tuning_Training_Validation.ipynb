{
 "cells": [
  {
   "cell_type": "markdown",
   "metadata": {
    "id": "A6IwkaSjh1Ul"
   },
   "source": [
    "###**Notebook Setup**"
   ]
  },
  {
   "cell_type": "markdown",
   "metadata": {
    "id": "IEAxUJ-S2dJB"
   },
   "source": [
    "**Mount Prep**"
   ]
  },
  {
   "cell_type": "code",
   "execution_count": null,
   "metadata": {
    "id": "tZlNusdLTV0v"
   },
   "outputs": [],
   "source": [
    "from google.colab import drive\n",
    "drive.mount(\"/content/drive/\")"
   ]
  },
  {
   "cell_type": "markdown",
   "metadata": {
    "id": "vkx1Y9Qj5G_1"
   },
   "source": [
    "**Package Installation:**"
   ]
  },
  {
   "cell_type": "code",
   "execution_count": null,
   "metadata": {
    "id": "1wZfrg344lsI"
   },
   "outputs": [],
   "source": [
    "! pip install matplotlib\n",
    "! pip install torch\n",
    "! pip install transformers\n",
    "! pip install datasets\n",
    "! pip install rdflib\n",
    "! pip install tqdm\n",
    "! pip install requests\n",
    "! pip install hyperopt\n",
    "! pip install scikit-learn"
   ]
  },
  {
   "cell_type": "markdown",
   "metadata": {
    "id": "nu6jBbPL2q4F"
   },
   "source": [
    "**GitHub Cloning:** 90-day access token is used"
   ]
  },
  {
   "cell_type": "code",
   "execution_count": null,
   "metadata": {
    "id": "C-qbm4XreAUf"
   },
   "outputs": [],
   "source": [
    "! rm -r CL-XLMR_base-LCR-Rot-hop-plus-plus #Remove GitHub whilst in session"
   ]
  },
  {
   "cell_type": "code",
   "execution_count": null,
   "metadata": {
    "id": "g9Ovr3oPvWD7"
   },
   "outputs": [],
   "source": [
    "!git clone https://github.com/SmartStevie02/CL-XLMR_base-LCR-Rot-hop-plus-plus.git"
   ]
  },
  {
   "cell_type": "markdown",
   "metadata": {
    "id": "ZiFrbQ5zGo45"
   },
   "source": [
    "### **XLMR-LCR-Rot-hop++:**\n",
    "LCR-Rot-hop++ model, using various embedders, trained on the English dataset."
   ]
  },
  {
   "cell_type": "markdown",
   "metadata": {
    "id": "MTTqHNaDGo45"
   },
   "source": [
    "**Hyperparameter Optimisation:** since this optimisation is carried out using English training data, this is carried out in a seperate file and used to test on all languages."
   ]
  },
  {
   "cell_type": "markdown",
   "metadata": {
    "id": "YCPnTJmqGo46"
   },
   "source": [
    "**Model Training:** since this training is carried out using English training data, this is carried out in a seperate file and used to test on all languages."
   ]
  },
  {
   "cell_type": "markdown",
   "metadata": {
    "id": "Fa3rtdBGGo46"
   },
   "source": [
    "**Model Validation:** validates the models using Spanish language test data."
   ]
  },
  {
   "cell_type": "code",
   "execution_count": null,
   "metadata": {
    "id": "vLSLaVm2Go46"
   },
   "outputs": [],
   "source": [
    "! python /content/CL-XLMR_base-LCR-Rot-hop-plus-plus/main_validate.py --language \"Spanish\" --model-type \"mBERT\" --model \"/content/drive/MyDrive/data/models/2016_English_LCR_hops2_dropout0-6000000000000001_acc0-8218085106382979_mBERT.pt\""
   ]
  },
  {
   "cell_type": "code",
   "execution_count": null,
   "metadata": {
    "id": "NHBoY8M0Go46"
   },
   "outputs": [],
   "source": [
    "! python /content/CL-XLMR_base-LCR-Rot-hop-plus-plus/main_validate.py --language \"Spanish\" --model-type \"/content/drive/MyDrive/data/models/2016_English_LCR_hops2_dropout0-5_acc0-8271276595744681_xlm-roberta-base.pt\""
   ]
  },
  {
   "cell_type": "code",
   "execution_count": null,
   "metadata": {
    "id": "5dfiR_YWGo46"
   },
   "outputs": [],
   "source": [
    "! python /content/CL-XLMR_base-LCR-Rot-hop-plus-plus/main_validate.py --language \"Spanish\" --model-type \"xlm-roberta-large\" --model \"/content/drive/MyDrive/data/models/2016_English_LCR_hops2_dropout0-5_acc0-776595744680851_xlm-roberta-large.pt\""
   ]
  },
  {
   "cell_type": "markdown",
   "metadata": {
    "id": "Z6lXkq_w28id"
   },
   "source": [
    "### **XLMR-LCR-Rot-hop-XX++:**\n",
    "LCR-Rot-hop++ model, using various embedders, trained on the Spanish dataset."
   ]
  },
  {
   "cell_type": "markdown",
   "metadata": {
    "id": "wUulWFqcAuaV"
   },
   "source": [
    "**Hyperparameter Optimisation:** carry out hyperparameter optimisation of the various language models using Spanish language training data."
   ]
  },
  {
   "cell_type": "code",
   "execution_count": null,
   "metadata": {
    "id": "EG6-Hk0iAfn4"
   },
   "outputs": [],
   "source": [
    "! python /content/CL-XLMR_base-LCR-Rot-hop-plus-plus/main_hyperparam.py --year 2016 --phase \"Train\" --language \"Spanish\" --model-type \"mBERT\""
   ]
  },
  {
   "cell_type": "code",
   "execution_count": null,
   "metadata": {
    "id": "sFRBTGMnAhYA"
   },
   "outputs": [],
   "source": [
    "! python /content/CL-XLMR_base-LCR-Rot-hop-plus-plus/main_hyperparam.py --year 2016 --phase \"Train\" --language \"Spanish\" --model-type \"xlm-roberta-base\""
   ]
  },
  {
   "cell_type": "code",
   "execution_count": null,
   "metadata": {
    "id": "FzFpGEN6AhJs"
   },
   "outputs": [],
   "source": [
    "! python /content/CL-XLMR_base-LCR-Rot-hop-plus-plus/main_hyperparam.py --year 2016 --phase \"Train\" --language \"Spanish\" --model-type \"xlm-roberta-large\""
   ]
  },
  {
   "cell_type": "markdown",
   "metadata": {
    "id": "oSK97jQjBw1q"
   },
   "source": [
    "**Model Training:** trains the actual models using Spanish language training data."
   ]
  },
  {
   "cell_type": "code",
   "execution_count": null,
   "metadata": {
    "id": "MzdHkxt0B88x"
   },
   "outputs": [],
   "source": [
    "! python /content/CL-XLMR_base-LCR-Rot-hop-plus-plus/main_train.py --model-type \"mBERT\" --year 2016 --phase \"Train\" --language \"Spanish\" --hops 2 --learning 0.05 --dropout 0.5 --momentum 0.9 --weight-decay 0.01"
   ]
  },
  {
   "cell_type": "code",
   "execution_count": null,
   "metadata": {
    "id": "nqA9QkRtB9tj"
   },
   "outputs": [],
   "source": [
    "! python /content/CL-XLMR_base-LCR-Rot-hop-plus-plus/main_train.py --model-type \"xlm-roberta-base\" --year 2016 --phase \"Train\" --language \"Spanish\" --hops 2 --learning 0.06 --dropout 0.6000000000000001 --momentum 0.85 --weight-decay 1e-05"
   ]
  },
  {
   "cell_type": "code",
   "execution_count": null,
   "metadata": {
    "id": "joT22zzGB9kI"
   },
   "outputs": [],
   "source": [
    "! python /content/CL-XLMR_base-LCR-Rot-hop-plus-plus/main_train.py --model-type \"xlm-roberta-large\" --year 2016 --phase \"Train\" --language \"Spanish\" --hops 2 --learning 0.06 --dropout 0.6000000000000001 --momentum 0.85 --weight-decay 1e-05"
   ]
  },
  {
   "cell_type": "markdown",
   "metadata": {
    "id": "REmxIHOCGDKK"
   },
   "source": [
    "**Model Validation:** validates the models using Spanish language test data."
   ]
  },
  {
   "cell_type": "code",
   "execution_count": null,
   "metadata": {
    "id": "HFZ_T4S-_aJt"
   },
   "outputs": [],
   "source": [
    "! python /content/CL-XLMR_base-LCR-Rot-hop-plus-plus/main_validate.py --language \"Spanish\" --model-type \"mBERT\" --model \"/content/drive/MyDrive/data/models/2016_Spanish_LCR_hops2_dropout0-5_acc0-845360824742268_mBERT.pt\""
   ]
  },
  {
   "cell_type": "code",
   "execution_count": null,
   "metadata": {
    "id": "XDfWFWQ4_aJy"
   },
   "outputs": [],
   "source": [
    "! python /content/CL-XLMR_base-LCR-Rot-hop-plus-plus/main_validate.py --language \"Spanish\" --model-type \"xlm-roberta-base\" --model \"/content/drive/MyDrive/data/models/2016_Spanish_LCR_hops2_dropout0-6000000000000001_acc0-8737113402061856_xlm-roberta-base.pt\""
   ]
  },
  {
   "cell_type": "code",
   "execution_count": null,
   "metadata": {
    "id": "bgCdT6kg_aJz"
   },
   "outputs": [],
   "source": [
    "! python /content/CL-XLMR_base-LCR-Rot-hop-plus-plus/main_validate.py --language \"Spanish\" --model-type \"xlm-roberta-large\" --model \"/content/drive/MyDrive/data/models/2016_Spanish_LCR_hops2_dropout0-6000000000000001_acc0-7371134020618557_xlm-roberta-large.pt\""
   ]
  },
  {
   "cell_type": "markdown",
   "metadata": {
    "id": "XFfc55XGC9vf"
   },
   "source": [
    "### **XLMR-MLCR-Rot-hop++:**\n",
    "LCR-Rot-hop++ model, using various embedders, trained on a Multilingual dataset."
   ]
  },
  {
   "cell_type": "markdown",
   "metadata": {
    "id": "suHAbGzCC9vg"
   },
   "source": [
    "**Hyperparameter Optimisation:** since this optimisation is carried out using Multilingual training data, this is carried out in a seperate file and used to test on all languages."
   ]
  },
  {
   "cell_type": "markdown",
   "metadata": {
    "id": "Chpj3fgpC9vg"
   },
   "source": [
    "**Model Training:** since this training is carried out using Multilingual training data, this is carried out in a seperate file and used to test on all languages."
   ]
  },
  {
   "cell_type": "markdown",
   "metadata": {
    "id": "R1dKeawMC9vg"
   },
   "source": [
    "**Model Validation:** validates the models using Spanish language test data."
   ]
  },
  {
   "cell_type": "code",
   "execution_count": null,
   "metadata": {
    "id": "LNIrTz2KC9vg"
   },
   "outputs": [],
   "source": [
    "! python /content/CL-XLMR_base-LCR-Rot-hop-plus-plus/main_validate.py --language \"Spanish\" --model-type \"mBERT\" --model \"/content/drive/MyDrive/data/models/2016_Multilingual_LCR_hops2_dropout0-6000000000000001_acc0-7918486171761281_mBERT.pt\""
   ]
  },
  {
   "cell_type": "code",
   "execution_count": null,
   "metadata": {
    "id": "niyzSZL5C9vg"
   },
   "outputs": [],
   "source": [
    "! python /content/CL-XLMR_base-LCR-Rot-hop-plus-plus/main_validate.py --language \"Spanish\" --model-type \"xlm-roberta-base\" --model \"/content/drive/MyDrive/data/models/2016_Multilingual_LCR_hops2_dropout0-4_acc0-8486171761280932_xlm-roberta-base.pt\""
   ]
  },
  {
   "cell_type": "code",
   "execution_count": null,
   "metadata": {
    "id": "j1xqaus2C9vh"
   },
   "outputs": [],
   "source": [
    "! python /content/CL-XLMR_base-LCR-Rot-hop-plus-plus/main_validate.py --language \"Spanish\" --model-type \"xlm-roberta-large\" --model \"/content/drive/MyDrive/data/models/2016_Multilingual_LCR_hops2_dropout0-6000000000000001_acc0-8398835516739447_xlm-roberta-large.pt\""
   ]
  },
  {
   "cell_type": "markdown",
   "metadata": {
    "id": "epcQ2wdaDWac"
   },
   "source": [
    "### **XLMR-LCR-Rot-hop-ACS_ES++:**\n",
    "LCR-Rot-hop++ model, using various embedders, trained on a dataset which is created using Aspect-Code Switching."
   ]
  },
  {
   "cell_type": "markdown",
   "metadata": {
    "id": "G1SUu32bDWac"
   },
   "source": [
    "**Hyperparameter Optimisation:** carry out hyperparameter optimisation of the various language models using an ACS Spanish language training data."
   ]
  },
  {
   "cell_type": "code",
   "execution_count": null,
   "metadata": {
    "id": "-90tWyvZDWac"
   },
   "outputs": [],
   "source": [
    "! python /content/CL-XLMR_base-LCR-Rot-hop-plus-plus/main_hyperparam.py --year 2016 --phase \"Train\" --language \"XACSforSpanish\" --model-type \"mBERT\""
   ]
  },
  {
   "cell_type": "code",
   "execution_count": null,
   "metadata": {
    "id": "zMHVzvkqDWac"
   },
   "outputs": [],
   "source": [
    "! python /content/CL-XLMR_base-LCR-Rot-hop-plus-plus/main_hyperparam.py --year 2016 --phase \"Train\" --language \"XACSforSpanish\" --model-type \"xlm-roberta-base\""
   ]
  },
  {
   "cell_type": "code",
   "execution_count": null,
   "metadata": {
    "id": "8NzjdM-3DWac"
   },
   "outputs": [],
   "source": [
    "! python /content/CL-XLMR_base-LCR-Rot-hop-plus-plus/main_hyperparam.py --year 2016 --phase \"Train\" --language \"XACSforSpanish\" --model-type \"xlm-roberta-large\""
   ]
  },
  {
   "cell_type": "markdown",
   "metadata": {
    "id": "Lo7fFe2qIhml"
   },
   "source": [
    "**Model Training:** trains the actual models using ACS Spanish language training data."
   ]
  },
  {
   "cell_type": "code",
   "execution_count": null,
   "metadata": {
    "id": "_m_UegcyIhml"
   },
   "outputs": [],
   "source": [
    "! python /content/CL-XLMR_base-LCR-Rot-hop-plus-plus/main_train.py --model-type \"mBERT\" --year 2016 --phase \"Train\" --language \"XACSforSpanish\" --hops 2 --learning 0.06 --dropout 0.6000000000000001 --momentum 0.85 --weight-decay 1e-05"
   ]
  },
  {
   "cell_type": "code",
   "execution_count": null,
   "metadata": {
    "id": "VT8Vm4rFIhml"
   },
   "outputs": [],
   "source": [
    "! python /content/CL-XLMR_base-LCR-Rot-hop-plus-plus/main_train.py --model-type \"xlm-roberta-base\" --year 2016 --phase \"Train\" --language \"XACSforSpanish\" --hops 2 --learning 0.08 --dropout 0.4 --momentum 0.95 --weight-decay 0.0001"
   ]
  },
  {
   "cell_type": "code",
   "execution_count": null,
   "metadata": {
    "id": "iy3npKUQIhml"
   },
   "outputs": [],
   "source": [
    "! python /content/CL-XLMR_base-LCR-Rot-hop-plus-plus/main_train.py --model-type \"xlm-roberta-large\" --year 2016 --phase \"Train\" --language \"XACSforSpanish\" --hops 2 --learning 0.06 --dropout 0.6000000000000001 --momentum 0.85 --weight-decay  1e-05"
   ]
  },
  {
   "cell_type": "markdown",
   "metadata": {
    "id": "8cmNwsZAvD7X"
   },
   "source": [
    "**Model Validation:** validates the models using Spanish language test data."
   ]
  },
  {
   "cell_type": "code",
   "execution_count": null,
   "metadata": {
    "id": "SxI0PffCvD7X"
   },
   "outputs": [],
   "source": [
    "! python /content/CL-XLMR_base-LCR-Rot-hop-plus-plus/main_validate.py --language \"Spanish\" --model-type \"mBERT\" --model \"/content/drive/MyDrive/data/models/2016_XACSforSpanish_LCR_hops2_dropout0-6000000000000001_acc0-9136054421768708_mBERT.pt\""
   ]
  },
  {
   "cell_type": "code",
   "execution_count": null,
   "metadata": {
    "id": "t8Z6Us5nvD7X"
   },
   "outputs": [],
   "source": [
    "! python /content/CL-XLMR_base-LCR-Rot-hop-plus-plus/main_validate.py --language \"Spanish\" --model-type \"xlm-roberta-base\" --model \"/content/drive/MyDrive/data/models/2016_XACSforSpanish_LCR_hops2_dropout0-4_acc0-8715159755268524_xlm-roberta-base.pt\""
   ]
  },
  {
   "cell_type": "code",
   "execution_count": null,
   "metadata": {
    "id": "-oyyB9GVvD7Y"
   },
   "outputs": [],
   "source": [
    "! python /content/CL-XLMR_base-LCR-Rot-hop-plus-plus/main_validate.py --language \"Spanish\" --model-type \"xlm-roberta-large\" --model \"/content/drive/MyDrive/data/models/2016_XACSforSpanish_LCR_hops2_dropout0-6000000000000001_acc0-8429639700883752_xlm-roberta-large.pt\""
   ]
  },
  {
   "cell_type": "markdown",
   "metadata": {
    "id": "A6foZ_VmgPEa"
   },
   "source": [
    "### **CLS-XLMR-LCR-Rot-hop++:**\n",
    "LCR-Rot-hop++ model, using various embedders, trained on the English dataset, using sentiment-level contrastive learning."
   ]
  },
  {
   "cell_type": "markdown",
   "metadata": {
    "id": "70n2L1MngPEb"
   },
   "source": [
    "**Hyperparameter Optimisation:** since this optimisation is carried out using English training data, this is carried out in a seperate file and used to test on all languages."
   ]
  },
  {
   "cell_type": "markdown",
   "metadata": {
    "id": "XsWQs5LkgPEb"
   },
   "source": [
    "**Model Training:** since this training is carried out using English training data, this is carried out in a seperate file and used to test on all languages."
   ]
  },
  {
   "cell_type": "markdown",
   "metadata": {
    "id": "SotXSIElgPEb"
   },
   "source": [
    "**Model Validation:** validates the models using Spanish language test data."
   ]
  },
  {
   "cell_type": "code",
   "execution_count": null,
   "metadata": {
    "id": "Q3dYTsZYgPEb"
   },
   "outputs": [],
   "source": [
    "! python /content/CL-XLMR_base-LCR-Rot-hop-plus-plus/main_validate.py --language \"Spanish\" --model-type \"mBERT\" --model \"/content/drive/MyDrive/data/models/2016_English_LCR_hops2_dropout0-6000000000000001_acc0-8377659574468085_mBERT_CL_Sen.pt\""
   ]
  },
  {
   "cell_type": "code",
   "execution_count": null,
   "metadata": {
    "id": "Of72iesUgPEb"
   },
   "outputs": [],
   "source": [
    "! python /content/CL-XLMR_base-LCR-Rot-hop-plus-plus/main_validate.py --language \"Spanish\" --model-type \"xlm-roberta-base\" --model \"/content/drive/MyDrive/data/models/2016_English_LCR_hops2_dropout0-6000000000000001_acc0-8537234042553191_xlm-roberta-base_CL_Sen.pt\""
   ]
  },
  {
   "cell_type": "markdown",
   "metadata": {
    "id": "03BHBw6qnTBJ"
   },
   "source": [
    "### **CLR-XLMR-LCR-Rot-hop++:**\n",
    "LCR-Rot-hop++ model, using various embedders, trained on the English dataset, using representation-level contrastive learning."
   ]
  },
  {
   "cell_type": "markdown",
   "metadata": {
    "id": "A7JcQ9PrnTBQ"
   },
   "source": [
    "**Hyperparameter Optimisation:** since this optimisation is carried out using English training data, this is carried out in a seperate file and used to test on all languages."
   ]
  },
  {
   "cell_type": "markdown",
   "metadata": {
    "id": "8AtJV_p2nTBQ"
   },
   "source": [
    "**Model Training:** since this training is carried out using English training data, this is carried out in a seperate file and used to test on all languages."
   ]
  },
  {
   "cell_type": "markdown",
   "metadata": {
    "id": "AAmvt3aNnTBQ"
   },
   "source": [
    "**Model Validation:** validates the models using Spanish language test data."
   ]
  },
  {
   "cell_type": "code",
   "execution_count": null,
   "metadata": {
    "id": "kDJz-H1znTBR"
   },
   "outputs": [],
   "source": [
    "! python /content/CL-XLMR_base-LCR-Rot-hop-plus-plus/main_validate.py --language \"Spanish\" --model-type \"mBERT\" --model \"/content/drive/MyDrive/data/models/2016_English_LCR_hops2_dropout0-4_acc0-8351063829787234_mBERT_CL_Rep.pt\""
   ]
  },
  {
   "cell_type": "code",
   "execution_count": null,
   "metadata": {
    "id": "zC6KMm6EnTBR"
   },
   "outputs": [],
   "source": [
    "! python /content/CL-XLMR_base-LCR-Rot-hop-plus-plus/main_validate.py --language \"Spanish\" --model-type \"xlm-roberta-base\" --model \"\""
   ]
  },
  {
   "cell_type": "markdown",
   "metadata": {
    "id": "7aoIVjsMkQN1"
   },
   "source": [
    "### **CLS-XLMR-LCR-Rot-hop-XX++:**\n",
    "LCR-Rot-hop++ model, using various embedders, trained on the Spanish dataset, using sentiment-level contrastive learning."
   ]
  },
  {
   "cell_type": "markdown",
   "metadata": {
    "id": "A3zbkHTspqrd"
   },
   "source": [
    "**Hyperparameter Optimisation:** carry out hyperparameter optimisation of the various language models using Spanish language training data."
   ]
  },
  {
   "cell_type": "code",
   "execution_count": null,
   "metadata": {
    "collapsed": true,
    "id": "VGHjZRRxrnEv"
   },
   "outputs": [],
   "source": [
    "! python /content/CL-XLMR_base-LCR-Rot-hop-plus-plus/main_hyperparam.py --year 2016 --phase \"Train\" --language \"Spanish\" --model-type \"mBERT\" --contrastive-learning \"Sen\""
   ]
  },
  {
   "cell_type": "code",
   "execution_count": null,
   "metadata": {
    "collapsed": true,
    "id": "QFBueKDArqzT"
   },
   "outputs": [],
   "source": [
    "! python /content/CL-XLMR_base-LCR-Rot-hop-plus-plus/main_hyperparam.py --year 2016 --phase \"Train\" --language \"Spanish\" --model-type \"xlm-roberta-base\" --contrastive-learning \"Sen\""
   ]
  },
  {
   "cell_type": "markdown",
   "metadata": {
    "id": "-tTaAMzcpwyG"
   },
   "source": [
    "**Model Training:** trains the actual models using Spanish language training data."
   ]
  },
  {
   "cell_type": "code",
   "execution_count": null,
   "metadata": {
    "id": "5GicVihbBHGG"
   },
   "outputs": [],
   "source": [
    "! python /content/CL-XLMR_base-LCR-Rot-hop-plus-plus/main_train.py --model-type \"mBERT\" --year 2016 --phase \"Train\" --language \"Spanish\" --hops 2 --learning 0.05 --dropout 0.5 --momentum 0.9 --weight-decay 0.01  --contrastive-learning \"Sen\" --beta 0.3"
   ]
  },
  {
   "cell_type": "code",
   "execution_count": null,
   "metadata": {
    "id": "fkreOJZSD8nH"
   },
   "outputs": [],
   "source": [
    "! python /content/CL-XLMR_base-LCR-Rot-hop-plus-plus/main_train.py --model-type \"xlm-roberta-base\" --year 2016 --phase \"Train\" --language \"Spanish\" --hops 2 --learning 0.06 --dropout 0.6000000000000001 --momentum 0.85 --weight-decay 1e-05 --contrastive-learning \"Sen\" --beta 0.2"
   ]
  },
  {
   "cell_type": "markdown",
   "metadata": {
    "id": "zG7032ngkW4N"
   },
   "source": [
    "**Model Validation:** validates the models using Spanish language test data."
   ]
  },
  {
   "cell_type": "code",
   "execution_count": null,
   "metadata": {
    "id": "xQy_iq-5kW4O"
   },
   "outputs": [],
   "source": [
    "! python /content/CL-XLMR_base-LCR-Rot-hop-plus-plus/main_validate.py --language \"Spanish\" --model-type \"mBERT\" --model \"/content/drive/MyDrive/data/models/2016_Spanish_LCR_hops2_dropout0-5_acc0-8505154639175257_mBERT_CL_Sen.pt\""
   ]
  },
  {
   "cell_type": "code",
   "execution_count": null,
   "metadata": {
    "id": "NooFehXQkW4O"
   },
   "outputs": [],
   "source": [
    "! python /content/CL-XLMR_base-LCR-Rot-hop-plus-plus/main_validate.py --language \"Spanish\" --model-type \"xlm-roberta-base\" --model \"/content/drive/MyDrive/data/models/2016_Spanish_LCR_hops2_dropout0-6000000000000001_acc0-8788659793814433_xlm-roberta-base_CL_Sen.pt\""
   ]
  },
  {
   "cell_type": "markdown",
   "metadata": {
    "id": "2MGpsbb4j2UO"
   },
   "source": [
    "### **CLR-XLMR-LCR-Rot-hop-XX++:**\n",
    "LCR-Rot-hop++ model, using various embedders, trained on the Spanish dataset, using representation-level contrastive learning."
   ]
  },
  {
   "cell_type": "markdown",
   "metadata": {
    "id": "czoPGPXDprsi"
   },
   "source": [
    "**Hyperparameter Optimisation:** carry out hyperparameter optimisation of the various language models using Spanish language training data."
   ]
  },
  {
   "cell_type": "code",
   "execution_count": null,
   "metadata": {
    "collapsed": true,
    "id": "5qJhg6DCrYO-"
   },
   "outputs": [],
   "source": [
    "! python /content/CL-XLMR_base-LCR-Rot-hop-plus-plus/main_hyperparam.py --year 2016 --phase \"Train\" --language \"Spanish\" --model-type \"mBERT\" --contrastive-learning \"Rep\""
   ]
  },
  {
   "cell_type": "code",
   "execution_count": null,
   "metadata": {
    "collapsed": true,
    "id": "8LBry0EsrqzT"
   },
   "outputs": [],
   "source": [
    "! python /content/CL-XLMR_base-LCR-Rot-hop-plus-plus/main_hyperparam.py --year 2016 --phase \"Train\" --language \"Spanish\" --model-type \"xlm-roberta-base\" --contrastive-learning \"Rep\""
   ]
  },
  {
   "cell_type": "markdown",
   "metadata": {
    "id": "S0Ou4lQspup9"
   },
   "source": [
    "**Model Training:** trains the actual models using Spanish language training data."
   ]
  },
  {
   "cell_type": "code",
   "execution_count": null,
   "metadata": {
    "id": "LFaBvWb14DMp"
   },
   "outputs": [],
   "source": [
    "! python /content/CL-XLMR_base-LCR-Rot-hop-plus-plus/main_train.py --model-type \"mBERT\" --year 2016 --phase \"Train\" --language \"Spanish\" --hops 2 --learning 0.05 --dropout 0.5 --momentum 0.9 --weight-decay 0.01 --contrastive-learning \"Rep\" --beta 0.3"
   ]
  },
  {
   "cell_type": "code",
   "execution_count": null,
   "metadata": {
    "id": "9aXgg_tt4DMv"
   },
   "outputs": [],
   "source": [
    "! python /content/CL-XLMR_base-LCR-Rot-hop-plus-plus/main_train.py --model-type \"xlm-roberta-base\" --year 2016 --phase \"Train\" --language \"Spanish\" --hops 2 --learning 0.06 --dropout 0.6000000000000001 --momentum 0.85 --weight-decay 1e-05 --contrastive-learning \"Rep\" --beta 0.3"
   ]
  },
  {
   "cell_type": "markdown",
   "metadata": {
    "id": "WurX3U1Nj2UO"
   },
   "source": [
    "**Model Validation:** validates the models using Spanish language test data."
   ]
  },
  {
   "cell_type": "code",
   "execution_count": null,
   "metadata": {
    "id": "4D_BiNf_j2UO"
   },
   "outputs": [],
   "source": [
    "! python /content/CL-XLMR_base-LCR-Rot-hop-plus-plus/main_validate.py --language \"Spanish\" --model-type \"mBERT\" --model \"/content/drive/MyDrive/data/models/2016_Spanish_LCR_hops2_dropout0-5_acc0-8479381443298969_mBERT_CL_Rep.pt\""
   ]
  },
  {
   "cell_type": "code",
   "execution_count": null,
   "metadata": {
    "id": "fof_0nHtj2UO"
   },
   "outputs": [],
   "source": [
    "! python /content/CL-XLMR_base-LCR-Rot-hop-plus-plus/main_validate.py --language \"Spanish\" --model-type \"xlm-roberta-base\" --model \"/content/drive/MyDrive/data/models/2016_Spanish_LCR_hops2_dropout0-6000000000000001_acc0-8634020618556701_xlm-roberta-base_CL_Rep.pt\""
   ]
  },
  {
   "cell_type": "markdown",
   "metadata": {
    "id": "SoELtyWLYbNi"
   },
   "source": [
    "### **CLS-XLMR-MLCR-Rot-hop++:**\n",
    "LCR-Rot-hop++ model, using various embedders, trained on the Multilingual dataset, using representation-level contrastive learning."
   ]
  },
  {
   "cell_type": "markdown",
   "metadata": {
    "id": "n9f1RRfxYbNi"
   },
   "source": [
    "**Hyperparameter Optimisation:** since this optimisation is carried out using Multilingual training data, this is carried out in a seperate file and used to test on all languages."
   ]
  },
  {
   "cell_type": "markdown",
   "metadata": {
    "id": "q7w8wuRKYbNi"
   },
   "source": [
    "**Model Training:** since this training is carried out using Multilingual training data, this is carried out in a seperate file and used to test on all languages."
   ]
  },
  {
   "cell_type": "markdown",
   "metadata": {
    "id": "H2-wFwu5YbNi"
   },
   "source": [
    "**Model Validation:** validates the models using Spanish language test data."
   ]
  },
  {
   "cell_type": "code",
   "execution_count": null,
   "metadata": {
    "id": "rvoVUpojYbNi"
   },
   "outputs": [],
   "source": [
    "! python /content/CL-XLMR_base-LCR-Rot-hop-plus-plus/main_validate.py --language \"Spanish\" --model-type \"mBERT\" --model \"/content/drive/MyDrive/data/models/2016_Multilingual_LCR_hops2_dropout0-6000000000000001_acc0-7983988355167394_mBERT_CL_Sen.pt\""
   ]
  },
  {
   "cell_type": "code",
   "execution_count": null,
   "metadata": {
    "id": "7QgL6m_QYbNi"
   },
   "outputs": [],
   "source": [
    "! python /content/CL-XLMR_base-LCR-Rot-hop-plus-plus/main_validate.py --language \"Spanish\" --model-type \"xlm-roberta-base\" --model \"\""
   ]
  },
  {
   "cell_type": "markdown",
   "metadata": {
    "id": "lsjDUE5MYbNi"
   },
   "source": [
    "### **CLR-XLMR-MLCR-Rot-hop++:**\n",
    "LCR-Rot-hop++ model, using various embedders, trained on the Multilingual dataset, using representation-level contrastive learning."
   ]
  },
  {
   "cell_type": "markdown",
   "metadata": {
    "id": "bw5fxwt6YbNj"
   },
   "source": [
    "**Hyperparameter Optimisation:** since this optimisation is carried out using Multilingual training data, this is carried out in a seperate file and used to test on all languages."
   ]
  },
  {
   "cell_type": "markdown",
   "metadata": {
    "id": "NKCjvGl4YbNj"
   },
   "source": [
    "**Model Training:** since this training is carried out using Multilingual training data, this is carried out in a seperate file and used to test on all languages."
   ]
  },
  {
   "cell_type": "markdown",
   "metadata": {
    "id": "Zt8SLXhGYbNj"
   },
   "source": [
    "**Model Validation:** validates the models using Spanish language test data."
   ]
  },
  {
   "cell_type": "code",
   "execution_count": null,
   "metadata": {
    "id": "sLcLrsGgYbNj"
   },
   "outputs": [],
   "source": [
    "! python /content/CL-XLMR_base-LCR-Rot-hop-plus-plus/main_validate.py --language \"Spanish\" --model-type \"mBERT\" --model \"\""
   ]
  },
  {
   "cell_type": "code",
   "execution_count": null,
   "metadata": {
    "id": "fKnPcsu7YbNj"
   },
   "outputs": [],
   "source": [
    "! python /content/CL-XLMR_base-LCR-Rot-hop-plus-plus/main_validate.py --language \"Spanish\" --model-type \"xlm-roberta-base\" --model \"\""
   ]
  },
  {
   "cell_type": "markdown",
   "metadata": {
    "id": "Bg1c0vhbsBh4"
   },
   "source": [
    "### **CLS-XLMR-LCR-Rot-hop-ACS_ES++:**\n",
    "LCR-Rot-hop++ model, using various embedders, trained on the Spanish ACS dataset, using sentiment-level contrastive learning."
   ]
  },
  {
   "cell_type": "markdown",
   "metadata": {
    "id": "E4dSu4ImsBh5"
   },
   "source": [
    "**Hyperparameter Optimisation:** carry out hyperparameter optimisation of the various language models using Spanish ACS language training data."
   ]
  },
  {
   "cell_type": "code",
   "execution_count": null,
   "metadata": {
    "collapsed": true,
    "id": "6ngKn4nOsBh5"
   },
   "outputs": [],
   "source": [
    "! python /content/CL-XLMR_base-LCR-Rot-hop-plus-plus/main_hyperparam.py --year 2016 --phase \"Train\" --language \"XACSforSpanish\" --model-type \"mBERT\" --contrastive-learning \"Sen\""
   ]
  },
  {
   "cell_type": "code",
   "execution_count": null,
   "metadata": {
    "collapsed": true,
    "id": "MP85QlzOsBh5"
   },
   "outputs": [],
   "source": [
    "! python /content/CL-XLMR_base-LCR-Rot-hop-plus-plus/main_hyperparam.py --year 2016 --phase \"Train\" --language \"XACSforSpanish\" --model-type \"xlm-roberta-base\" --contrastive-learning \"Sen\""
   ]
  },
  {
   "cell_type": "markdown",
   "metadata": {
    "id": "sLUbZI1KsBh5"
   },
   "source": [
    "**Model Training:** trains the actual models using Spanish ACS language training data."
   ]
  },
  {
   "cell_type": "code",
   "execution_count": null,
   "metadata": {
    "id": "93-CDt2JsBh6"
   },
   "outputs": [],
   "source": [
    "! python /content/CL-XLMR_base-LCR-Rot-hop-plus-plus/main_train.py --model-type \"mBERT\" --year 2016 --phase \"Train\" --language \"XACSforSpanish\" --hops 2 --learning 0.06 --dropout  0.6000000000000001 --momentum 0.85 --weight-decay 1e-05 --contrastive-learning \"Sen\" --beta 0.4"
   ]
  },
  {
   "cell_type": "code",
   "execution_count": null,
   "metadata": {
    "id": "SIGCWz3HsBh6"
   },
   "outputs": [],
   "source": [
    "! python /content/CL-XLMR_base-LCR-Rot-hop-plus-plus/main_train.py --model-type \"xlm-roberta-base\" --year 2016 --phase \"Train\" --language \"XACSforSpanish\" --hops 2 --learning 0.06 --dropout  0.6000000000000001 --momentum 0.85 --weight-decay 1e-05 --contrastive-learning \"Sen\" --beta 0.2"
   ]
  },
  {
   "cell_type": "markdown",
   "metadata": {
    "id": "RMSDV-7ssBh6"
   },
   "source": [
    "**Model Validation:** validates the models using Spanish language test data."
   ]
  },
  {
   "cell_type": "code",
   "execution_count": null,
   "metadata": {
    "id": "S_-nkiIgsBh6"
   },
   "outputs": [],
   "source": [
    "! python /content/CL-XLMR_base-LCR-Rot-hop-plus-plus/main_validate.py --language \"Spanish\" --model-type \"mBERT\" --model \"/content/drive/MyDrive/data/models/2016_XACSforSpanish_LCR_hops2_dropout0-6000000000000001_acc0-9183673469387755_mBERT_CL_Sen.pt\""
   ]
  },
  {
   "cell_type": "code",
   "execution_count": null,
   "metadata": {
    "id": "MoFti0QSsBh6"
   },
   "outputs": [],
   "source": [
    "! python /content/CL-XLMR_base-LCR-Rot-hop-plus-plus/main_validate.py --language \"Spanish\" --model-type \"xlm-roberta-base\" --model \"/content/drive/MyDrive/data/models/2016_XACSforSpanish_LCR_hops2_dropout0-6000000000000001_acc0-8823929299796057_xlm-roberta-base_CL_Sen.pt\""
   ]
  },
  {
   "cell_type": "markdown",
   "metadata": {
    "id": "LxxGqWThsBh6"
   },
   "source": [
    "### **CLR-XLMR-LCR-Rot-hop-ACS_ES++:**\n",
    "LCR-Rot-hop++ model, using various embedders, trained on the Spanish ACS dataset, using representation-level contrastive learning."
   ]
  },
  {
   "cell_type": "markdown",
   "metadata": {
    "id": "iItQixUEsBh6"
   },
   "source": [
    "**Hyperparameter Optimisation:** carry out hyperparameter optimisation of the various language models using Spanish ACS language training data."
   ]
  },
  {
   "cell_type": "code",
   "execution_count": null,
   "metadata": {
    "collapsed": true,
    "id": "_AEGjazGsBh6"
   },
   "outputs": [],
   "source": [
    "! python /content/CL-XLMR_base-LCR-Rot-hop-plus-plus/main_hyperparam.py --year 2016 --phase \"Train\" --language \"XACSforSpanish\" --model-type \"mBERT\" --contrastive-learning \"Rep\""
   ]
  },
  {
   "cell_type": "code",
   "execution_count": null,
   "metadata": {
    "collapsed": true,
    "id": "-LpWhfWTsBh6"
   },
   "outputs": [],
   "source": [
    "! python /content/CL-XLMR_base-LCR-Rot-hop-plus-plus/main_hyperparam.py --year 2016 --phase \"Train\" --language \"XACSforSpanish\" --model-type \"xlm-roberta-base\" --contrastive-learning \"Rep\""
   ]
  },
  {
   "cell_type": "markdown",
   "metadata": {
    "id": "kzt9_XxpsBh6"
   },
   "source": [
    "**Model Training:** trains the actual models using Spanish  ACS language training data."
   ]
  },
  {
   "cell_type": "code",
   "execution_count": null,
   "metadata": {
    "collapsed": true,
    "id": "1HSMQFbFsBh6"
   },
   "outputs": [],
   "source": [
    "! python /content/CL-XLMR_base-LCR-Rot-hop-plus-plus/main_train.py --model-type \"mBERT\" --year 2016 --phase \"Train\" --language \"XACSforSpanish\" --hops 2 --learning 0.06 --dropout  0.6000000000000001 --momentum 0.85 --weight-decay 1e-05 --contrastive-learning \"Rep\" --beta 0.5"
   ]
  },
  {
   "cell_type": "code",
   "execution_count": null,
   "metadata": {
    "collapsed": true,
    "id": "tU36d98PsBh6"
   },
   "outputs": [],
   "source": [
    "! python /content/CL-XLMR_base-LCR-Rot-hop-plus-plus/main_train.py --model-type \"xlm-roberta-base\" --year 2016 --phase \"Train\" --language \"XACSforSpanish\" --hops 2 --learning 0.06 --dropout  0.6000000000000001 --momentum 0.85 --weight-decay 1e-05 --contrastive-learning \"Rep\" --beta 0.3"
   ]
  },
  {
   "cell_type": "markdown",
   "metadata": {
    "id": "3dXi6NuVsBh7"
   },
   "source": [
    "**Model Validation:** validates the models using Spanish language test data."
   ]
  },
  {
   "cell_type": "code",
   "execution_count": null,
   "metadata": {
    "id": "M3iDndJ1sBh7"
   },
   "outputs": [],
   "source": [
    "! python /content/CL-XLMR_base-LCR-Rot-hop-plus-plus/main_validate.py --language \"Spanish\" --model-type \"mBERT\" --model \"/content/drive/MyDrive/data/models/2016_XACSforSpanish_LCR_hops2_dropout0-6000000000000001_acc0-8925170068027211_mBERT_CL_Rep.pt\""
   ]
  },
  {
   "cell_type": "code",
   "execution_count": null,
   "metadata": {
    "id": "QalxczgysBh7"
   },
   "outputs": [],
   "source": [
    "! python /content/CL-XLMR_base-LCR-Rot-hop-plus-plus/main_validate.py --language \"Spanish\" --model-type \"xlm-roberta-base\" --model \"/content/drive/MyDrive/data/models/2016_XACSforSpanish_LCR_hops2_dropout0-6000000000000001_acc0-8484024473147519_xlm-roberta-base_CL_Rep.pt\""
   ]
  }
 ],
 "metadata": {
  "accelerator": "GPU",
  "colab": {
   "gpuType": "T4",
   "private_outputs": true,
   "provenance": [
    {
     "file_id": "14J_u84w8FKJg5nEzkyLYYJgesR-q4a4O",
     "timestamp": 1717620361666
    }
   ]
  },
  "kernelspec": {
   "display_name": "Python 3",
   "name": "python3"
  },
  "language_info": {
   "name": "python"
  }
 },
 "nbformat": 4,
 "nbformat_minor": 0
}
